{
  "nbformat": 4,
  "nbformat_minor": 0,
  "metadata": {
    "colab": {
      "provenance": []
    },
    "kernelspec": {
      "name": "python3",
      "display_name": "Python 3"
    },
    "language_info": {
      "name": "python"
    }
  },
  "cells": [
    {
      "cell_type": "markdown",
      "source": [
        "# Nuestros Primeros Pasos - Vamos a CODEAR"
      ],
      "metadata": {
        "id": "he82aOGogXVD"
      }
    },
    {
      "cell_type": "markdown",
      "source": [
        "**Comandos Importantes**\n",
        "\n",
        "*   “Enter”: salto de línea en la linea de código\n",
        "*   “CTRL+Enter”: ejecutamos la línea de código (celda)\n",
        "*   “ALT+Enter”: ejecuta la celda y agrega una nueva"
      ],
      "metadata": {
        "id": "OouMr_7uheX4"
      }
    },
    {
      "cell_type": "markdown",
      "source": [
        "## Operadores Aritmeticos"
      ],
      "metadata": {
        "id": "5kGxYZEJlC0U"
      }
    },
    {
      "cell_type": "markdown",
      "source": [
        "Realizar una suma de dos valores"
      ],
      "metadata": {
        "id": "xnkLsYVVgdji"
      }
    },
    {
      "cell_type": "code",
      "execution_count": null,
      "metadata": {
        "id": "MrG_IbBXgRZx",
        "colab": {
          "base_uri": "https://localhost:8080/"
        },
        "outputId": "605de4b8-df8f-46d8-d267-6faf0ae66dd1"
      },
      "outputs": [
        {
          "output_type": "execute_result",
          "data": {
            "text/plain": [
              "5"
            ]
          },
          "metadata": {},
          "execution_count": 2
        }
      ],
      "source": [
        "2+3"
      ]
    },
    {
      "cell_type": "markdown",
      "source": [
        "Realizar una resta de dos valores"
      ],
      "metadata": {
        "id": "NeOp9KgHi76l"
      }
    },
    {
      "cell_type": "code",
      "source": [
        "2-5"
      ],
      "metadata": {
        "id": "XFwWM2-UjAPt",
        "colab": {
          "base_uri": "https://localhost:8080/"
        },
        "outputId": "cfec908d-e2e2-42de-a697-940c7ff4684a"
      },
      "execution_count": null,
      "outputs": [
        {
          "output_type": "execute_result",
          "data": {
            "text/plain": [
              "-3"
            ]
          },
          "metadata": {},
          "execution_count": 3
        }
      ]
    },
    {
      "cell_type": "markdown",
      "source": [
        "Realizar la multplicacion de dos valores"
      ],
      "metadata": {
        "id": "hgv-9pB5jFkO"
      }
    },
    {
      "cell_type": "code",
      "source": [
        "2*5"
      ],
      "metadata": {
        "id": "so4dB8cxjKqO",
        "colab": {
          "base_uri": "https://localhost:8080/"
        },
        "outputId": "28580814-d838-46f1-cc4d-e56bc5abac1b"
      },
      "execution_count": null,
      "outputs": [
        {
          "output_type": "execute_result",
          "data": {
            "text/plain": [
              "10"
            ]
          },
          "metadata": {},
          "execution_count": 4
        }
      ]
    },
    {
      "cell_type": "markdown",
      "source": [
        "Realizar la division de dos valores"
      ],
      "metadata": {
        "id": "MgQbeXgTjLLF"
      }
    },
    {
      "cell_type": "code",
      "source": [
        "10/5"
      ],
      "metadata": {
        "id": "zNJRyT7mjNH1",
        "colab": {
          "base_uri": "https://localhost:8080/"
        },
        "outputId": "a45522a6-a7a8-4433-ed78-7e1e8fc0e730"
      },
      "execution_count": null,
      "outputs": [
        {
          "output_type": "execute_result",
          "data": {
            "text/plain": [
              "2.0"
            ]
          },
          "metadata": {},
          "execution_count": 5
        }
      ]
    },
    {
      "cell_type": "code",
      "source": [
        "1/3"
      ],
      "metadata": {
        "id": "dUw6OJGWjQiF",
        "colab": {
          "base_uri": "https://localhost:8080/"
        },
        "outputId": "458cfebb-39f1-4541-96a2-03fbade640be"
      },
      "execution_count": null,
      "outputs": [
        {
          "output_type": "execute_result",
          "data": {
            "text/plain": [
              "0.3333333333333333"
            ]
          },
          "metadata": {},
          "execution_count": 6
        }
      ]
    },
    {
      "cell_type": "markdown",
      "source": [
        "Exponente '**'"
      ],
      "metadata": {
        "id": "Gl9W06JFjS9d"
      }
    },
    {
      "cell_type": "code",
      "source": [
        "2**2"
      ],
      "metadata": {
        "id": "X29baDvqjgEU",
        "colab": {
          "base_uri": "https://localhost:8080/"
        },
        "outputId": "fa2ee3d8-4496-4902-9b6a-ff4caf728a97"
      },
      "execution_count": null,
      "outputs": [
        {
          "output_type": "execute_result",
          "data": {
            "text/plain": [
              "4"
            ]
          },
          "metadata": {},
          "execution_count": 7
        }
      ]
    },
    {
      "cell_type": "markdown",
      "source": [
        "Raiz Cuadrada"
      ],
      "metadata": {
        "id": "FAHuhKU0jgtF"
      }
    },
    {
      "cell_type": "code",
      "source": [
        "4 ** (1/2)"
      ],
      "metadata": {
        "id": "AKkrRW8kjiXU",
        "colab": {
          "base_uri": "https://localhost:8080/"
        },
        "outputId": "247f5d20-ad16-45b2-fda6-3c88dd18995c"
      },
      "execution_count": null,
      "outputs": [
        {
          "output_type": "execute_result",
          "data": {
            "text/plain": [
              "2.0"
            ]
          },
          "metadata": {},
          "execution_count": 8
        }
      ]
    },
    {
      "cell_type": "code",
      "source": [
        "16 ** (1/2)"
      ],
      "metadata": {
        "colab": {
          "base_uri": "https://localhost:8080/"
        },
        "id": "eWoswkMta7us",
        "outputId": "a22aff7e-c36d-4ed1-f0c0-5f13bdb9f559"
      },
      "execution_count": null,
      "outputs": [
        {
          "output_type": "execute_result",
          "data": {
            "text/plain": [
              "4.0"
            ]
          },
          "metadata": {},
          "execution_count": 10
        }
      ]
    },
    {
      "cell_type": "markdown",
      "source": [
        "Residuo de una division ' % '"
      ],
      "metadata": {
        "id": "ErXvjMsqjsoM"
      }
    },
    {
      "cell_type": "code",
      "source": [
        "10 % 4"
      ],
      "metadata": {
        "id": "YgvTpluqjzaT",
        "colab": {
          "base_uri": "https://localhost:8080/"
        },
        "outputId": "4a13b6ce-b6b6-4549-b117-89c9a98f6d91"
      },
      "execution_count": null,
      "outputs": [
        {
          "output_type": "execute_result",
          "data": {
            "text/plain": [
              "2"
            ]
          },
          "metadata": {},
          "execution_count": 12
        }
      ]
    },
    {
      "cell_type": "markdown",
      "source": [
        "Division entera (cociente de una division) '//'"
      ],
      "metadata": {
        "id": "yVyipXO0j3Tr"
      }
    },
    {
      "cell_type": "code",
      "source": [
        "5/2"
      ],
      "metadata": {
        "id": "oQWK9Ar0kA7b",
        "colab": {
          "base_uri": "https://localhost:8080/"
        },
        "outputId": "ab9538c7-fd14-4953-9316-afe23dde37e5"
      },
      "execution_count": null,
      "outputs": [
        {
          "output_type": "execute_result",
          "data": {
            "text/plain": [
              "2.5"
            ]
          },
          "metadata": {},
          "execution_count": 13
        }
      ]
    },
    {
      "cell_type": "code",
      "source": [
        "5 // 2"
      ],
      "metadata": {
        "colab": {
          "base_uri": "https://localhost:8080/"
        },
        "id": "RuR2wFgjbcjs",
        "outputId": "9a64f309-1e53-491a-8a0e-174960ce489e"
      },
      "execution_count": null,
      "outputs": [
        {
          "output_type": "execute_result",
          "data": {
            "text/plain": [
              "2"
            ]
          },
          "metadata": {},
          "execution_count": 14
        }
      ]
    },
    {
      "cell_type": "code",
      "source": [
        "1//3"
      ],
      "metadata": {
        "colab": {
          "base_uri": "https://localhost:8080/"
        },
        "id": "SOdzmrXkbgTQ",
        "outputId": "580c4550-183c-448d-bd99-113221cf4448"
      },
      "execution_count": null,
      "outputs": [
        {
          "output_type": "execute_result",
          "data": {
            "text/plain": [
              "0"
            ]
          },
          "metadata": {},
          "execution_count": 15
        }
      ]
    },
    {
      "cell_type": "markdown",
      "source": [
        "## Variables en Python"
      ],
      "metadata": {
        "id": "n84KWAUrlUT6"
      }
    },
    {
      "cell_type": "markdown",
      "source": [
        "Nombramos una variable w=5"
      ],
      "metadata": {
        "id": "iUyjhY5slokx"
      }
    },
    {
      "cell_type": "code",
      "source": [
        "w=5"
      ],
      "metadata": {
        "id": "fAoGQf10lXo5"
      },
      "execution_count": null,
      "outputs": []
    },
    {
      "cell_type": "markdown",
      "source": [
        "Ejecutamos la variable w"
      ],
      "metadata": {
        "id": "Dh5-EKuLlrp5"
      }
    },
    {
      "cell_type": "code",
      "source": [
        "w"
      ],
      "metadata": {
        "id": "YgNB7J6ulwk5",
        "colab": {
          "base_uri": "https://localhost:8080/"
        },
        "outputId": "58d80aef-9ea8-4242-c2af-4a5dc9f31909"
      },
      "execution_count": null,
      "outputs": [
        {
          "output_type": "execute_result",
          "data": {
            "text/plain": [
              "5"
            ]
          },
          "metadata": {},
          "execution_count": 17
        }
      ]
    },
    {
      "cell_type": "code",
      "source": [
        "W"
      ],
      "metadata": {
        "id": "jEH9TjjFlwzo",
        "colab": {
          "base_uri": "https://localhost:8080/",
          "height": 141
        },
        "outputId": "565d62d0-bc98-4f0a-a138-93cc3a836d23"
      },
      "execution_count": null,
      "outputs": [
        {
          "output_type": "error",
          "ename": "NameError",
          "evalue": "name 'W' is not defined",
          "traceback": [
            "\u001b[0;31m---------------------------------------------------------------------------\u001b[0m",
            "\u001b[0;31mNameError\u001b[0m                                 Traceback (most recent call last)",
            "\u001b[0;32m<ipython-input-19-f9e8b9556f03>\u001b[0m in \u001b[0;36m<cell line: 1>\u001b[0;34m()\u001b[0m\n\u001b[0;32m----> 1\u001b[0;31m \u001b[0mW\u001b[0m\u001b[0;34m\u001b[0m\u001b[0;34m\u001b[0m\u001b[0m\n\u001b[0m",
            "\u001b[0;31mNameError\u001b[0m: name 'W' is not defined"
          ]
        }
      ]
    },
    {
      "cell_type": "markdown",
      "source": [
        "Ahora nombramos una nueva variable z=2 y la ejecutamos"
      ],
      "metadata": {
        "id": "2X5Ez4Fql0Dp"
      }
    },
    {
      "cell_type": "code",
      "source": [
        "z=2\n",
        "\n",
        "z"
      ],
      "metadata": {
        "id": "j6vf0JX2l4Al",
        "colab": {
          "base_uri": "https://localhost:8080/"
        },
        "outputId": "18143ee3-575b-4267-d4d2-24883c6900c3"
      },
      "execution_count": null,
      "outputs": [
        {
          "output_type": "execute_result",
          "data": {
            "text/plain": [
              "2"
            ]
          },
          "metadata": {},
          "execution_count": 22
        }
      ]
    },
    {
      "cell_type": "markdown",
      "source": [
        "Creamos una nueva variable en conjunto con las dos anteriores, y=w+z"
      ],
      "metadata": {
        "id": "chxcD2llmDEN"
      }
    },
    {
      "cell_type": "code",
      "source": [
        "y = w+z\n",
        "\n",
        "y"
      ],
      "metadata": {
        "id": "ly5zwVWjmD0N",
        "colab": {
          "base_uri": "https://localhost:8080/"
        },
        "outputId": "cdc830c0-841d-4483-e9f4-0c3247ab8f0e"
      },
      "execution_count": null,
      "outputs": [
        {
          "output_type": "execute_result",
          "data": {
            "text/plain": [
              "7"
            ]
          },
          "metadata": {},
          "execution_count": 24
        }
      ]
    },
    {
      "cell_type": "markdown",
      "source": [
        "Elevamos la variable y al cuadrado"
      ],
      "metadata": {
        "id": "9711TS3SmEad"
      }
    },
    {
      "cell_type": "code",
      "source": [
        "y ** 2"
      ],
      "metadata": {
        "id": "e1Cs8iEHmIHM",
        "colab": {
          "base_uri": "https://localhost:8080/"
        },
        "outputId": "ecc3525b-84f7-4aeb-f6e7-f84c23879e85"
      },
      "execution_count": null,
      "outputs": [
        {
          "output_type": "execute_result",
          "data": {
            "text/plain": [
              "49"
            ]
          },
          "metadata": {},
          "execution_count": 25
        }
      ]
    },
    {
      "cell_type": "markdown",
      "source": [
        "## Funcion print()"
      ],
      "metadata": {
        "id": "pjUoSKFklLcy"
      }
    },
    {
      "cell_type": "markdown",
      "source": [
        "Funcion print()\n",
        "\n",
        "\"Hola Mundo\"\n",
        "\n",
        "\"Bienvenidos a la Diplomatura\""
      ],
      "metadata": {
        "id": "_N5ISFYVkxEa"
      }
    },
    {
      "cell_type": "code",
      "source": [
        "print (\"Hola Mundo\")"
      ],
      "metadata": {
        "id": "83Qji631k_Qq",
        "colab": {
          "base_uri": "https://localhost:8080/"
        },
        "outputId": "01a4ff9a-5c4c-4866-e0da-a8543a08768f"
      },
      "execution_count": null,
      "outputs": [
        {
          "output_type": "stream",
          "name": "stdout",
          "text": [
            "Hola Mundo\n"
          ]
        }
      ]
    },
    {
      "cell_type": "code",
      "source": [
        "print (\"Bienvenidos a la Diplomatura\")"
      ],
      "metadata": {
        "id": "M7601Xznk_vy",
        "colab": {
          "base_uri": "https://localhost:8080/"
        },
        "outputId": "901e7ac9-6809-4d80-c304-0176001606ea"
      },
      "execution_count": null,
      "outputs": [
        {
          "output_type": "stream",
          "name": "stdout",
          "text": [
            "Bienvenidos a la Diplomatura\n"
          ]
        }
      ]
    },
    {
      "cell_type": "code",
      "source": [
        "print ('Hola Mundo')"
      ],
      "metadata": {
        "id": "yh7pg7k1k_ji",
        "colab": {
          "base_uri": "https://localhost:8080/"
        },
        "outputId": "12a955cc-64ae-4564-ef36-0be9f8c6f72e"
      },
      "execution_count": null,
      "outputs": [
        {
          "output_type": "stream",
          "name": "stdout",
          "text": [
            "Hola Mundo\n"
          ]
        }
      ]
    },
    {
      "cell_type": "markdown",
      "source": [
        "Nombramos a la variable a como \"Diplomatura IA\"\n",
        "Luego ejecutamos esa variable con la funcion print()"
      ],
      "metadata": {
        "id": "Ku8-kTp4mP18"
      }
    },
    {
      "cell_type": "code",
      "source": [
        "a=\"Hola Mundo\"\n",
        "\n",
        "print (a)"
      ],
      "metadata": {
        "id": "Ikoz0F6HmYy5",
        "colab": {
          "base_uri": "https://localhost:8080/"
        },
        "outputId": "620bbb88-4bfc-44b3-9266-722c87b59b5a"
      },
      "execution_count": null,
      "outputs": [
        {
          "output_type": "stream",
          "name": "stdout",
          "text": [
            "Hola Mundo\n"
          ]
        }
      ]
    },
    {
      "cell_type": "markdown",
      "source": [
        "# Sentencias"
      ],
      "metadata": {
        "id": "y0stBAMzvpU_"
      }
    },
    {
      "cell_type": "markdown",
      "source": [
        "## Sentencia ... if"
      ],
      "metadata": {
        "id": "4ZTLmYEuvrkH"
      }
    },
    {
      "cell_type": "markdown",
      "source": [
        "Oferta de seguro de gastos médicos\n",
        "\n",
        "Una tienda de autoservicio está interesada en ofrecer un seguro de gastos médicos a sus clientes. Sin embargo, desean dirigir esta oferta específicamente a personas mayores de 25 años, considerando que este grupo demográfico es más probable que esté en condiciones de pagar por servicios adicionales.\n",
        "\n",
        "Desarrolla un programa en Python que solicite al usuario ingresar su edad. Luego, el programa deberá determinar si el usuario es mayor de 25 años y mostrar un mensaje indicando si es elegible para el seguro de gastos médicos ofrecido por la tienda."
      ],
      "metadata": {
        "id": "8SoooePgvzBH"
      }
    },
    {
      "cell_type": "markdown",
      "source": [
        "*Pseudocodigo*: el usuario proporciona su edad. La cantidad debe leerse como entero. Si la edad es mayor a 25 años, el programa debe mostrar: Posible Cliente\n",
        "\n"
      ],
      "metadata": {
        "id": "q5HEqHvQgnyW"
      }
    },
    {
      "cell_type": "code",
      "source": [
        "edad=81\n",
        "\n",
        "if edad > 25:\n",
        "  print (\"Posible Cliente\")"
      ],
      "metadata": {
        "id": "6DQfQmzhwM4h",
        "colab": {
          "base_uri": "https://localhost:8080/"
        },
        "outputId": "e33f4aa0-f5ef-418d-fcf6-f9795ff7944d"
      },
      "execution_count": null,
      "outputs": [
        {
          "output_type": "stream",
          "name": "stdout",
          "text": [
            "Posible Cliente\n"
          ]
        }
      ]
    },
    {
      "cell_type": "markdown",
      "source": [
        "Ahora pensar que el usuario puede tener 25 años o mas para ofrecerle el servicio"
      ],
      "metadata": {
        "id": "xtqB1vytwYB4"
      }
    },
    {
      "cell_type": "code",
      "source": [
        "edad=18\n",
        "\n",
        "if edad >= 25:\n",
        "  print (\"Posible Cliente\")"
      ],
      "metadata": {
        "id": "tdMsrfndweug"
      },
      "execution_count": null,
      "outputs": []
    },
    {
      "cell_type": "markdown",
      "source": [
        "Al usuario se le va a ofrecer el seguro solo si tiene 25 años"
      ],
      "metadata": {
        "id": "4s0BFz3wwfGA"
      }
    },
    {
      "cell_type": "code",
      "source": [
        "edad=25\n",
        "\n",
        "if edad == 25:\n",
        "  print (\"Posible Cliente\")"
      ],
      "metadata": {
        "id": "LDRWeXurwy6p",
        "colab": {
          "base_uri": "https://localhost:8080/"
        },
        "outputId": "7a33f4f0-bf8f-458d-87bc-1d90336b1a22"
      },
      "execution_count": null,
      "outputs": [
        {
          "output_type": "stream",
          "name": "stdout",
          "text": [
            "Posible Cliente\n"
          ]
        }
      ]
    },
    {
      "cell_type": "markdown",
      "source": [
        "Al usuario solo se le va a ofrecer el seguro si su edad es distinta a 25 años"
      ],
      "metadata": {
        "id": "Tj7cDXoowyKH"
      }
    },
    {
      "cell_type": "code",
      "source": [
        "edad=55\n",
        "\n",
        "if edad != 25:\n",
        "  print (\"Posible Cliente\")"
      ],
      "metadata": {
        "id": "K69ENDpnw4ne",
        "colab": {
          "base_uri": "https://localhost:8080/"
        },
        "outputId": "fa64074b-f9ed-43fd-a4ae-29d6f7bbdd97"
      },
      "execution_count": null,
      "outputs": [
        {
          "output_type": "stream",
          "name": "stdout",
          "text": [
            "Posible Cliente\n"
          ]
        }
      ]
    },
    {
      "cell_type": "markdown",
      "source": [
        "## Sentencia if...else"
      ],
      "metadata": {
        "id": "ysRMOTs4ynVt"
      }
    },
    {
      "cell_type": "markdown",
      "source": [
        "Oferta de seguro de gastos médicos\n",
        "\n",
        "Una tienda de autoservicio está interesada en ofrecer un seguro de gastos médicos a sus clientes. Sin embargo, desean dirigir esta oferta específicamente a personas mayores de 25 años, considerando que este grupo demográfico es más probable que esté en condiciones de pagar por servicios adicionales.\n",
        "\n",
        "Desarrolla un programa en Python que solicite al usuario ingresar su edad. Luego, el programa deberá determinar si el usuario es mayor de 25 años y mostrar un mensaje indicando si es elegible para el seguro de gastos médicos ofrecido por la tienda y otro mensaje en el caso de no ser elegible."
      ],
      "metadata": {
        "id": "cwbYCPvtysk8"
      }
    },
    {
      "cell_type": "code",
      "source": [
        "edad=24\n",
        "\n",
        "if edad > 25:\n",
        "  print (\"Posible Cliente\")\n",
        "\n",
        "else:\n",
        "  print(\"No es un posible Cliente\")"
      ],
      "metadata": {
        "id": "hRYdGoOjzYMU",
        "colab": {
          "base_uri": "https://localhost:8080/"
        },
        "outputId": "518999f5-ccc4-4563-9c8c-82da47a1263d"
      },
      "execution_count": null,
      "outputs": [
        {
          "output_type": "stream",
          "name": "stdout",
          "text": [
            "No es un posible Cliente\n"
          ]
        }
      ]
    },
    {
      "cell_type": "markdown",
      "source": [
        "## Sentencia if...elif...else"
      ],
      "metadata": {
        "id": "LVVVewQPz1qE"
      }
    },
    {
      "cell_type": "markdown",
      "source": [
        "Supongamos que queremos clasificar niños, adolescentes, jóvenes, adultos y adultos mayores:\n",
        "\n",
        "Si la edad de la persona es mayor o igual a 60 Mostrar: Adulto Mayor\n",
        "\n",
        "Si la edad de la persona es mayor o igual a 27 Mostrar: Adulto\n",
        "\n",
        "Si la edad de la persona es mayor o igual a 18 Mostrar: Joven\n",
        "\n",
        "Si la edad de la persona es mayor o igual a 12 Mostrar: Adolescente\n",
        "\n",
        "En otro caso, Mostrar: Infante"
      ],
      "metadata": {
        "id": "WqB0-Q-Gz5VB"
      }
    },
    {
      "cell_type": "code",
      "source": [
        "edad=1\n",
        "\n",
        "#if: realiza una accion, cuando la condicion es verdadera; y la ignora cuando es falsa.\n",
        "if edad >=60:\n",
        "  print (\"Adulto Mayor\")\n",
        "\n",
        "#elif: realiza una de diferentes acciones dependiendo como haya sido calificadas las otras condiciones.\n",
        "elif edad >=27:\n",
        "  print (\"Adulto\")\n",
        "elif edad >=18:\n",
        "  print(\"Joven\")\n",
        "elif edad >=12:\n",
        "  print(\"Adolescente\")\n",
        "\n",
        "#else: realiza una accion cuando la condicion es falsa\n",
        "else:\n",
        "  print(\"Infante\")"
      ],
      "metadata": {
        "id": "Pyctqon80FPd",
        "colab": {
          "base_uri": "https://localhost:8080/"
        },
        "outputId": "dbe19571-1a17-4fc7-f385-42f75fb957e2"
      },
      "execution_count": null,
      "outputs": [
        {
          "output_type": "stream",
          "name": "stdout",
          "text": [
            "Infante\n"
          ]
        }
      ]
    },
    {
      "cell_type": "markdown",
      "source": [
        "# Mejoramos el codigo"
      ],
      "metadata": {
        "id": "9G-byNH9nS_i"
      }
    },
    {
      "cell_type": "code",
      "source": [
        "edad=input(\"Ingresar tu edad: \")"
      ],
      "metadata": {
        "colab": {
          "base_uri": "https://localhost:8080/"
        },
        "id": "x_9XcHOnnV5i",
        "outputId": "bb45368c-2d7a-430c-f2df-b28f618b810b"
      },
      "execution_count": null,
      "outputs": [
        {
          "name": "stdout",
          "output_type": "stream",
          "text": [
            "Ingresar tu edad: 25\n"
          ]
        }
      ]
    },
    {
      "cell_type": "code",
      "source": [
        "edad=int(input(\"Ingresar tu edad: \"))"
      ],
      "metadata": {
        "colab": {
          "base_uri": "https://localhost:8080/"
        },
        "id": "glyHj6_Qn9xk",
        "outputId": "e0ccd76d-f7dd-4973-e325-6ea9207be9fc"
      },
      "execution_count": null,
      "outputs": [
        {
          "name": "stdout",
          "output_type": "stream",
          "text": [
            "Ingresar tu edad: 25\n"
          ]
        }
      ]
    },
    {
      "cell_type": "code",
      "source": [
        "edad=int(input(\"Ingresar tu edad: \"))\n",
        "\n",
        "#if: realiza una accion, cuando la condicion es verdadera; y la ignora cuando es falsa.\n",
        "if edad >=60:\n",
        "  print (\"Adulto Mayor\")\n",
        "\n",
        "#elif: realiza una de diferentes acciones dependiendo como haya sido calificadas las otras condiciones.\n",
        "elif edad >=27:\n",
        "  print (\"Adulto\")\n",
        "elif edad >=18:\n",
        "  print(\"Joven\")\n",
        "elif edad >=12:\n",
        "  print(\"Adolescente\")\n",
        "\n",
        "#else: realiza una accion cuando la condicion es falsa\n",
        "else:\n",
        "  print(\"Infante\")"
      ],
      "metadata": {
        "colab": {
          "base_uri": "https://localhost:8080/"
        },
        "id": "aiCmSEdzoV0X",
        "outputId": "699900ec-dc23-49ec-cea5-1982966d7c7c"
      },
      "execution_count": null,
      "outputs": [
        {
          "output_type": "stream",
          "name": "stdout",
          "text": [
            "Ingresar tu edad: 25\n",
            "Joven\n"
          ]
        }
      ]
    },
    {
      "cell_type": "code",
      "source": [
        "edad=int(input(\"Ingresar tu edad: \"))\n",
        "\n",
        "#if: realiza una accion, cuando la condicion es verdadera; y la ignora cuando es falsa.\n",
        "if edad >=60:\n",
        "  print (\"Adulto Mayor\")\n",
        "\n",
        "\n",
        "#else: realiza una accion cuando la condicion es falsa\n",
        "else:\n",
        "  print(\"Infante\")\n",
        "\n",
        "  #elif: realiza una de diferentes acciones dependiendo como haya sido calificadas las otras condiciones.\n",
        "elif edad >=27:\n",
        "  print (\"Adulto\")\n",
        "elif edad >=18:\n",
        "  print(\"Joven\")\n",
        "elif edad >=12:\n",
        "  print(\"Adolescente\")"
      ],
      "metadata": {
        "colab": {
          "base_uri": "https://localhost:8080/",
          "height": 106
        },
        "id": "fiXzQaT8pNds",
        "outputId": "01886e0f-f7b0-46b5-bbaa-91156a1f6f0b"
      },
      "execution_count": null,
      "outputs": [
        {
          "output_type": "error",
          "ename": "SyntaxError",
          "evalue": "invalid syntax (<ipython-input-66-1788e7a3a3da>, line 13)",
          "traceback": [
            "\u001b[0;36m  File \u001b[0;32m\"<ipython-input-66-1788e7a3a3da>\"\u001b[0;36m, line \u001b[0;32m13\u001b[0m\n\u001b[0;31m    elif edad >=27:\u001b[0m\n\u001b[0m    ^\u001b[0m\n\u001b[0;31mSyntaxError\u001b[0m\u001b[0;31m:\u001b[0m invalid syntax\n"
          ]
        }
      ]
    }
  ]
}