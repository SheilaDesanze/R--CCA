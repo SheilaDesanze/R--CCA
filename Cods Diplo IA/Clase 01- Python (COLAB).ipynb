{
  "nbformat": 4,
  "nbformat_minor": 0,
  "metadata": {
    "colab": {
      "provenance": []
    },
    "kernelspec": {
      "name": "python3",
      "display_name": "Python 3"
    },
    "language_info": {
      "name": "python"
    }
  },
  "cells": [
    {
      "cell_type": "markdown",
      "source": [
        "# Nuestros Primeros Pasos - Vamos a CODEAR"
      ],
      "metadata": {
        "id": "he82aOGogXVD"
      }
    },
    {
      "cell_type": "markdown",
      "source": [
        "**Comandos Importantes**\n",
        "\n",
        "*   “Enter”: salto de línea en la linea de código\n",
        "*   “CTRL+Enter”: ejecutamos la línea de código (celda)\n",
        "*   “ALT+Enter”: ejecuta la celda y agrega una nueva"
      ],
      "metadata": {
        "id": "OouMr_7uheX4"
      }
    },
    {
      "cell_type": "markdown",
      "source": [
        "## Operadores Aritmeticos"
      ],
      "metadata": {
        "id": "5kGxYZEJlC0U"
      }
    },
    {
      "cell_type": "markdown",
      "source": [
        "Realizar una suma de dos valores"
      ],
      "metadata": {
        "id": "xnkLsYVVgdji"
      }
    },
    {
      "cell_type": "code",
      "execution_count": null,
      "metadata": {
        "id": "MrG_IbBXgRZx"
      },
      "outputs": [],
      "source": []
    },
    {
      "cell_type": "markdown",
      "source": [
        "Realizar una resta de dos valores"
      ],
      "metadata": {
        "id": "NeOp9KgHi76l"
      }
    },
    {
      "cell_type": "code",
      "source": [],
      "metadata": {
        "id": "XFwWM2-UjAPt"
      },
      "execution_count": null,
      "outputs": []
    },
    {
      "cell_type": "markdown",
      "source": [
        "Realizar la multplicacion de dos valores"
      ],
      "metadata": {
        "id": "hgv-9pB5jFkO"
      }
    },
    {
      "cell_type": "code",
      "source": [],
      "metadata": {
        "id": "so4dB8cxjKqO"
      },
      "execution_count": null,
      "outputs": []
    },
    {
      "cell_type": "markdown",
      "source": [
        "Realizar la division de dos valores"
      ],
      "metadata": {
        "id": "MgQbeXgTjLLF"
      }
    },
    {
      "cell_type": "code",
      "source": [],
      "metadata": {
        "id": "zNJRyT7mjNH1"
      },
      "execution_count": null,
      "outputs": []
    },
    {
      "cell_type": "code",
      "source": [],
      "metadata": {
        "id": "dUw6OJGWjQiF"
      },
      "execution_count": null,
      "outputs": []
    },
    {
      "cell_type": "markdown",
      "source": [
        "Exponente '**'"
      ],
      "metadata": {
        "id": "Gl9W06JFjS9d"
      }
    },
    {
      "cell_type": "code",
      "source": [],
      "metadata": {
        "id": "X29baDvqjgEU"
      },
      "execution_count": null,
      "outputs": []
    },
    {
      "cell_type": "markdown",
      "source": [
        "Raiz Cuadrada"
      ],
      "metadata": {
        "id": "FAHuhKU0jgtF"
      }
    },
    {
      "cell_type": "code",
      "source": [],
      "metadata": {
        "id": "AKkrRW8kjiXU"
      },
      "execution_count": null,
      "outputs": []
    },
    {
      "cell_type": "markdown",
      "source": [
        "Residuo de una division ' % '"
      ],
      "metadata": {
        "id": "ErXvjMsqjsoM"
      }
    },
    {
      "cell_type": "code",
      "source": [],
      "metadata": {
        "id": "YgvTpluqjzaT"
      },
      "execution_count": null,
      "outputs": []
    },
    {
      "cell_type": "markdown",
      "source": [
        "Division entera (cociente de una division) '//'"
      ],
      "metadata": {
        "id": "yVyipXO0j3Tr"
      }
    },
    {
      "cell_type": "code",
      "source": [],
      "metadata": {
        "id": "oQWK9Ar0kA7b"
      },
      "execution_count": null,
      "outputs": []
    },
    {
      "cell_type": "markdown",
      "source": [
        "## Variables en Python"
      ],
      "metadata": {
        "id": "n84KWAUrlUT6"
      }
    },
    {
      "cell_type": "markdown",
      "source": [
        "Nombramos una variable w=5"
      ],
      "metadata": {
        "id": "iUyjhY5slokx"
      }
    },
    {
      "cell_type": "code",
      "source": [],
      "metadata": {
        "id": "fAoGQf10lXo5"
      },
      "execution_count": null,
      "outputs": []
    },
    {
      "cell_type": "markdown",
      "source": [
        "Ejecutamos la variable w"
      ],
      "metadata": {
        "id": "Dh5-EKuLlrp5"
      }
    },
    {
      "cell_type": "code",
      "source": [],
      "metadata": {
        "id": "YgNB7J6ulwk5"
      },
      "execution_count": null,
      "outputs": []
    },
    {
      "cell_type": "code",
      "source": [],
      "metadata": {
        "id": "jEH9TjjFlwzo"
      },
      "execution_count": null,
      "outputs": []
    },
    {
      "cell_type": "markdown",
      "source": [],
      "metadata": {
        "id": "XWasglozlxHq"
      }
    },
    {
      "cell_type": "markdown",
      "source": [
        "Ahora nombramos una nueva variable z=2 y la ejecutamos"
      ],
      "metadata": {
        "id": "2X5Ez4Fql0Dp"
      }
    },
    {
      "cell_type": "code",
      "source": [],
      "metadata": {
        "id": "j6vf0JX2l4Al"
      },
      "execution_count": null,
      "outputs": []
    },
    {
      "cell_type": "markdown",
      "source": [
        "Creamos una nueva variable en conjunto con las dos anteriores, y=w+z"
      ],
      "metadata": {
        "id": "chxcD2llmDEN"
      }
    },
    {
      "cell_type": "code",
      "source": [],
      "metadata": {
        "id": "ly5zwVWjmD0N"
      },
      "execution_count": null,
      "outputs": []
    },
    {
      "cell_type": "markdown",
      "source": [
        "Elevamos la variable y al cuadrado"
      ],
      "metadata": {
        "id": "9711TS3SmEad"
      }
    },
    {
      "cell_type": "code",
      "source": [],
      "metadata": {
        "id": "e1Cs8iEHmIHM"
      },
      "execution_count": null,
      "outputs": []
    },
    {
      "cell_type": "markdown",
      "source": [
        "## Funcion print()"
      ],
      "metadata": {
        "id": "pjUoSKFklLcy"
      }
    },
    {
      "cell_type": "markdown",
      "source": [
        "Funcion print()\n",
        "\n",
        "\"Hola Mundo\"\n",
        "\n",
        "\"Bienvenidos a la Diplomatura\""
      ],
      "metadata": {
        "id": "_N5ISFYVkxEa"
      }
    },
    {
      "cell_type": "code",
      "source": [],
      "metadata": {
        "id": "83Qji631k_Qq"
      },
      "execution_count": null,
      "outputs": []
    },
    {
      "cell_type": "code",
      "source": [],
      "metadata": {
        "id": "M7601Xznk_vy"
      },
      "execution_count": null,
      "outputs": []
    },
    {
      "cell_type": "code",
      "source": [],
      "metadata": {
        "id": "yh7pg7k1k_ji"
      },
      "execution_count": null,
      "outputs": []
    },
    {
      "cell_type": "markdown",
      "source": [
        "Nombramos a la variable a como \"Diplomatura IA\"\n",
        "Luego ejecutamos esa variable con la funcion print()"
      ],
      "metadata": {
        "id": "Ku8-kTp4mP18"
      }
    },
    {
      "cell_type": "code",
      "source": [],
      "metadata": {
        "id": "Ikoz0F6HmYy5"
      },
      "execution_count": null,
      "outputs": []
    },
    {
      "cell_type": "markdown",
      "source": [
        "# Sentencias"
      ],
      "metadata": {
        "id": "y0stBAMzvpU_"
      }
    },
    {
      "cell_type": "markdown",
      "source": [
        "## Sentencia ... if"
      ],
      "metadata": {
        "id": "4ZTLmYEuvrkH"
      }
    },
    {
      "cell_type": "markdown",
      "source": [
        "Oferta de seguro de gastos médicos\n",
        "\n",
        "Una tienda de autoservicio está interesada en ofrecer un seguro de gastos médicos a sus clientes. Sin embargo, desean dirigir esta oferta específicamente a personas mayores de 25 años, considerando que este grupo demográfico es más probable que esté en condiciones de pagar por servicios adicionales.\n",
        "\n",
        "Desarrolla un programa en Python que solicite al usuario ingresar su edad. Luego, el programa deberá determinar si el usuario es mayor de 25 años y mostrar un mensaje indicando si es elegible para el seguro de gastos médicos ofrecido por la tienda."
      ],
      "metadata": {
        "id": "8SoooePgvzBH"
      }
    },
    {
      "cell_type": "code",
      "source": [],
      "metadata": {
        "id": "6DQfQmzhwM4h"
      },
      "execution_count": null,
      "outputs": []
    },
    {
      "cell_type": "markdown",
      "source": [
        "Ahora pensar que el usuario puede tener 25 años o mas para ofrecerle el servicio"
      ],
      "metadata": {
        "id": "xtqB1vytwYB4"
      }
    },
    {
      "cell_type": "code",
      "source": [],
      "metadata": {
        "id": "tdMsrfndweug"
      },
      "execution_count": null,
      "outputs": []
    },
    {
      "cell_type": "markdown",
      "source": [
        "Al usuario se le va a ofrecer el seguro solo si tiene 25 años"
      ],
      "metadata": {
        "id": "4s0BFz3wwfGA"
      }
    },
    {
      "cell_type": "code",
      "source": [],
      "metadata": {
        "id": "LDRWeXurwy6p"
      },
      "execution_count": null,
      "outputs": []
    },
    {
      "cell_type": "markdown",
      "source": [
        "Al usuario solo se le va a ofrecer el seguro si su edad es distinta a 25 años"
      ],
      "metadata": {
        "id": "Tj7cDXoowyKH"
      }
    },
    {
      "cell_type": "code",
      "source": [],
      "metadata": {
        "id": "K69ENDpnw4ne"
      },
      "execution_count": null,
      "outputs": []
    },
    {
      "cell_type": "markdown",
      "source": [
        "## Sentencia if...else"
      ],
      "metadata": {
        "id": "ysRMOTs4ynVt"
      }
    },
    {
      "cell_type": "markdown",
      "source": [
        "Oferta de seguro de gastos médicos\n",
        "\n",
        "Una tienda de autoservicio está interesada en ofrecer un seguro de gastos médicos a sus clientes. Sin embargo, desean dirigir esta oferta específicamente a personas mayores de 25 años, considerando que este grupo demográfico es más probable que esté en condiciones de pagar por servicios adicionales.\n",
        "\n",
        "Desarrolla un programa en Python que solicite al usuario ingresar su edad. Luego, el programa deberá determinar si el usuario es mayor de 25 años y mostrar un mensaje indicando si es elegible para el seguro de gastos médicos ofrecido por la tienda y otro mensaje en el caso de no ser elegible."
      ],
      "metadata": {
        "id": "cwbYCPvtysk8"
      }
    },
    {
      "cell_type": "code",
      "source": [],
      "metadata": {
        "id": "hRYdGoOjzYMU"
      },
      "execution_count": null,
      "outputs": []
    },
    {
      "cell_type": "markdown",
      "source": [
        "## Sentencia if...elif...else"
      ],
      "metadata": {
        "id": "LVVVewQPz1qE"
      }
    },
    {
      "cell_type": "markdown",
      "source": [
        "Supongamos que queremos clasificar niños, adolescentes, jóvenes, adultos y adultos mayores:\n",
        "\n",
        "Si la edad de la persona es mayor o igual a 60 Mostrar: Adulto Mayor\n",
        "\n",
        "Si la edad de la persona es mayor o igual a 27 Mostrar: Adulto\n",
        "\n",
        "Si la edad de la persona es mayor o igual a 18 Mostrar: Joven\n",
        "\n",
        "Si la edad de la persona es mayor o igual a 12 Mostrar: Adolescente\n",
        "\n",
        "En otro caso, Mostrar: Infante"
      ],
      "metadata": {
        "id": "WqB0-Q-Gz5VB"
      }
    },
    {
      "cell_type": "code",
      "source": [],
      "metadata": {
        "id": "Pyctqon80FPd"
      },
      "execution_count": null,
      "outputs": []
    }
  ]
}