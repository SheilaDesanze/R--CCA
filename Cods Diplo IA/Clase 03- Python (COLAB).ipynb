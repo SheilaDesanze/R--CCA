{
  "nbformat": 4,
  "nbformat_minor": 0,
  "metadata": {
    "colab": {
      "provenance": []
    },
    "kernelspec": {
      "name": "python3",
      "display_name": "Python 3"
    },
    "language_info": {
      "name": "python"
    }
  },
  "cells": [
    {
      "cell_type": "markdown",
      "source": [
        "#Listas"
      ],
      "metadata": {
        "id": "ZKu06FoAjYqR"
      }
    },
    {
      "cell_type": "code",
      "execution_count": null,
      "metadata": {
        "id": "hXmqkd1jjWwz"
      },
      "outputs": [],
      "source": [
        "A = [\"Seba\", \"Argentina\", 28]\n",
        "A\n"
      ]
    },
    {
      "cell_type": "code",
      "source": [
        "a = [25, 13, 15, 58, 16, 87]"
      ],
      "metadata": {
        "id": "mRihjN4ckJ6M"
      },
      "execution_count": null,
      "outputs": []
    },
    {
      "cell_type": "markdown",
      "source": [
        "## LLamar elementos dentro de la Lista"
      ],
      "metadata": {
        "id": "cy0ohNA1kbgu"
      }
    },
    {
      "cell_type": "code",
      "source": [
        "A[0]"
      ],
      "metadata": {
        "id": "J4SC9lvrklTm"
      },
      "execution_count": null,
      "outputs": []
    },
    {
      "cell_type": "code",
      "source": [],
      "metadata": {
        "id": "ChtMuGRelBT4"
      },
      "execution_count": null,
      "outputs": []
    },
    {
      "cell_type": "markdown",
      "source": [
        "## Contar los elementos de la lista: len()"
      ],
      "metadata": {
        "id": "NJ84VyhYkxyx"
      }
    },
    {
      "cell_type": "code",
      "source": [],
      "metadata": {
        "id": "CJzkBstFk2Kw"
      },
      "execution_count": null,
      "outputs": []
    },
    {
      "cell_type": "code",
      "source": [],
      "metadata": {
        "id": "iBt20_xLk58g"
      },
      "execution_count": null,
      "outputs": []
    },
    {
      "cell_type": "markdown",
      "source": [
        "##LLamar elementos con indices negativos"
      ],
      "metadata": {
        "id": "DFpB4qMek76v"
      }
    },
    {
      "cell_type": "code",
      "source": [],
      "metadata": {
        "id": "CzDNVOjZlASg"
      },
      "execution_count": null,
      "outputs": []
    },
    {
      "cell_type": "code",
      "source": [],
      "metadata": {
        "id": "mpl0pHPllAug"
      },
      "execution_count": null,
      "outputs": []
    },
    {
      "cell_type": "markdown",
      "source": [
        "## Cambiamos elementos de la Lista"
      ],
      "metadata": {
        "id": "-_MINnUBlIg8"
      }
    },
    {
      "cell_type": "code",
      "source": [
        "A[0]=\"Diplomatura\"\n",
        "A"
      ],
      "metadata": {
        "colab": {
          "base_uri": "https://localhost:8080/"
        },
        "id": "azmRZYHhlLpv",
        "outputId": "84c14469-2991-4efe-ca1e-fa2c933f6744"
      },
      "execution_count": null,
      "outputs": [
        {
          "output_type": "execute_result",
          "data": {
            "text/plain": [
              "['Diplomatura', 'Argentina', 28]"
            ]
          },
          "metadata": {},
          "execution_count": 8
        }
      ]
    },
    {
      "cell_type": "code",
      "source": [],
      "metadata": {
        "id": "HvgAbfGslNKg"
      },
      "execution_count": null,
      "outputs": []
    },
    {
      "cell_type": "code",
      "source": [
        "b=\"Hola\"\n",
        "\n",
        "b[0]=h #No se puede con una lista de caracteres"
      ],
      "metadata": {
        "id": "T-JsL_FTKxYL"
      },
      "execution_count": null,
      "outputs": []
    },
    {
      "cell_type": "markdown",
      "source": [
        "## Agregamos elementos a una Lista vacia"
      ],
      "metadata": {
        "id": "WbK_Ad9xloUo"
      }
    },
    {
      "cell_type": "code",
      "source": [
        "secuencia=[]\n",
        "\n",
        "for numero in range(-2,3):\n",
        "  secuencia += [numero]\n",
        "\n",
        "secuencia"
      ],
      "metadata": {
        "id": "yBwyQNvHlwMp"
      },
      "execution_count": null,
      "outputs": []
    },
    {
      "cell_type": "code",
      "source": [
        "letras=[]\n",
        "\n",
        "letras += \"PorEjemplo\"\n",
        "\n",
        "letras"
      ],
      "metadata": {
        "id": "l6NtNja3mdv2"
      },
      "execution_count": null,
      "outputs": []
    },
    {
      "cell_type": "markdown",
      "source": [
        "## Concatenar listas"
      ],
      "metadata": {
        "id": "If9_KEGHlvuQ"
      }
    },
    {
      "cell_type": "code",
      "source": [
        "lista=A+a"
      ],
      "metadata": {
        "id": "4Sxd1RxBm0Lu"
      },
      "execution_count": null,
      "outputs": []
    },
    {
      "cell_type": "markdown",
      "source": [
        "## Visualizar los indices y sus valores"
      ],
      "metadata": {
        "id": "-5ixR2Wzm20i"
      }
    },
    {
      "cell_type": "code",
      "source": [
        "for i in range(len(lista)):\n",
        "    print(f'{i}:{lista[i]}')\n"
      ],
      "metadata": {
        "id": "MSv39ChDnHmH"
      },
      "execution_count": null,
      "outputs": []
    },
    {
      "cell_type": "markdown",
      "source": [
        "# Tupla"
      ],
      "metadata": {
        "id": "JUZ3GU-MLSKS"
      }
    },
    {
      "cell_type": "markdown",
      "source": [
        "Creamos una tupla para clientes"
      ],
      "metadata": {
        "id": "woft04GzLUjN"
      }
    },
    {
      "cell_type": "code",
      "source": [
        "datos_cliente1=()\n",
        "datos_cliente1"
      ],
      "metadata": {
        "id": "l4mxIyp0LyUH"
      },
      "execution_count": null,
      "outputs": []
    },
    {
      "cell_type": "code",
      "source": [
        "datos_cliente1=()\n",
        "len(datos_cliente1)"
      ],
      "metadata": {
        "id": "PhPD1PBoL-Bv"
      },
      "execution_count": null,
      "outputs": []
    },
    {
      "cell_type": "markdown",
      "source": [
        "## Añadir elementos a la **Tupla**"
      ],
      "metadata": {
        "id": "bEoLGKUIMGgK"
      }
    },
    {
      "cell_type": "code",
      "source": [
        "datos_cliente=\"Sebastian\",\"M\",\"28\""
      ],
      "metadata": {
        "id": "3oJK89jZMLi2"
      },
      "execution_count": null,
      "outputs": []
    },
    {
      "cell_type": "code",
      "source": [],
      "metadata": {
        "id": "61ztTD4qOLcm"
      },
      "execution_count": null,
      "outputs": []
    },
    {
      "cell_type": "markdown",
      "source": [
        "## LLamar elementos dentro de la Lista"
      ],
      "metadata": {
        "id": "N5ScdemxORJ4"
      }
    },
    {
      "cell_type": "code",
      "source": [
        "datos_cliente[]"
      ],
      "metadata": {
        "id": "4wQoCQebOZCW"
      },
      "execution_count": null,
      "outputs": []
    },
    {
      "cell_type": "code",
      "source": [
        "\n"
      ],
      "metadata": {
        "id": "btGesLvKOdm-"
      },
      "execution_count": null,
      "outputs": []
    },
    {
      "cell_type": "markdown",
      "source": [
        "## Concatenar Tuplas"
      ],
      "metadata": {
        "id": "ibeTp8ZEOdUp"
      }
    },
    {
      "cell_type": "code",
      "source": [
        "datos_cliente= (\"Sebastian\",\"M\",28)\n",
        "\n",
        "complemento=(\"Noviembre\",1995)\n",
        "\n",
        "datos_c1 = datos_cliente + complemento\n",
        "\n",
        "datos_c1"
      ],
      "metadata": {
        "id": "L6E79MvLOtGO"
      },
      "execution_count": null,
      "outputs": []
    },
    {
      "cell_type": "markdown",
      "source": [
        "## Acceder a cualquier secuencia de elementos, asignando cada elemento de la secuencia con una variable separada por comas\n"
      ],
      "metadata": {
        "id": "4PVU1ulOPgDc"
      }
    },
    {
      "cell_type": "code",
      "source": [
        "nombre,sexo,edad=datos_cliente\n",
        "\n",
        "nombre"
      ],
      "metadata": {
        "colab": {
          "base_uri": "https://localhost:8080/",
          "height": 35
        },
        "id": "DYj1mGjbPnRz",
        "outputId": "fba541dd-4d18-4915-f643-6b5f1b31fce1"
      },
      "execution_count": null,
      "outputs": [
        {
          "output_type": "execute_result",
          "data": {
            "text/plain": [
              "'Sebastian'"
            ],
            "application/vnd.google.colaboratory.intrinsic+json": {
              "type": "string"
            }
          },
          "metadata": {},
          "execution_count": 17
        }
      ]
    },
    {
      "cell_type": "markdown",
      "source": [
        "## Visualizar los indices y sus valores"
      ],
      "metadata": {
        "id": "CtFQfr8EQDBi"
      }
    },
    {
      "cell_type": "markdown",
      "source": [
        "- La función enumerate() en Python se utiliza para agregar un contador a un iterable (como una lista, tupla, cadena, etc.) y generar una secuencia de pares (índice, valor) para cada elemento en el iterable.\n",
        "\n",
        "- La función list() en Python se utiliza para crear una lista a partir de un iterable (como una tupla, un rango, una cadena, etc.) o para convertir otro tipo de datos en una lista."
      ],
      "metadata": {
        "id": "fLR8li3wQwkr"
      }
    },
    {
      "cell_type": "code",
      "source": [
        "estudiantes =[\"Sebastian\",\"Diego\",\"Daiana\",\"Pablo\"]\n",
        "\n",
        "list(enumerate(estudiantes))\n"
      ],
      "metadata": {
        "id": "JwneWvTrQFGE"
      },
      "execution_count": null,
      "outputs": []
    },
    {
      "cell_type": "markdown",
      "source": [
        "- La función tuple() en Python se utiliza para crear una tupla a partir de un iterable (como una lista, una cadena, un conjunto, etc.) o para convertir otro tipo de datos en una tupla."
      ],
      "metadata": {
        "id": "I502sik1RA7i"
      }
    },
    {
      "cell_type": "code",
      "source": [
        "estudiantes =[\"Sebastian\",\"Diego\",\"Daiana\",\"Pablo\"]\n",
        "\n",
        "tuple(enumerate(estudiantes))"
      ],
      "metadata": {
        "colab": {
          "base_uri": "https://localhost:8080/"
        },
        "id": "vqujd6_sRCX6",
        "outputId": "8022e47d-c8fd-414a-94dd-093d1e00add1"
      },
      "execution_count": null,
      "outputs": [
        {
          "output_type": "execute_result",
          "data": {
            "text/plain": [
              "((0, 'Sebastian'), (1, 'Diego'), (2, 'Daiana'), (3, 'Pablo'))"
            ]
          },
          "metadata": {},
          "execution_count": 22
        }
      ]
    },
    {
      "cell_type": "markdown",
      "source": [
        "## Cambiar elementos de una Tupla - **TypeError**"
      ],
      "metadata": {
        "id": "YwOn-oUHR-j-"
      }
    },
    {
      "cell_type": "code",
      "source": [
        "mi_tupla = (1, 2, 3)\n",
        "mi_tupla[0] = 10  # Intentar cambiar el primer elemento de la tupla\n"
      ],
      "metadata": {
        "id": "Y8Eo_-UJMTeL"
      },
      "execution_count": null,
      "outputs": []
    },
    {
      "cell_type": "markdown",
      "source": [
        "# Lista VS Tupla"
      ],
      "metadata": {
        "id": "T9wu5D1HdDqm"
      }
    },
    {
      "cell_type": "code",
      "source": [
        "\n",
        "mi_lista = [1, 2, 3, 4, 5]\n",
        "\n",
        "mi_lista[0] = 10\n",
        "\n",
        "print(\"Lista modificada:\", mi_lista)\n"
      ],
      "metadata": {
        "id": "chtBuYYwdH8p"
      },
      "execution_count": null,
      "outputs": []
    },
    {
      "cell_type": "code",
      "source": [
        "mi_tupla = (1, 2, 3, 4, 5)\n",
        "\n",
        "mi_tupla[0]=10\n",
        "\n",
        "print(\"Lista modificada:\", mi_tupla)"
      ],
      "metadata": {
        "id": "AkGNahg6ew1m"
      },
      "execution_count": null,
      "outputs": []
    },
    {
      "cell_type": "markdown",
      "source": [
        "# Separando Secuencias"
      ],
      "metadata": {
        "id": "xbsWdGOXSHE_"
      }
    },
    {
      "cell_type": "markdown",
      "source": [
        "Creamos una lista de numeros pares hasta 20"
      ],
      "metadata": {
        "id": "w3i1rBfLSrPP"
      }
    },
    {
      "cell_type": "code",
      "source": [
        "numeros_pares = [i for i in range(2, 21, 2)]\n",
        "print(numeros_pares)\n"
      ],
      "metadata": {
        "id": "8RDmbiRZSl02"
      },
      "execution_count": null,
      "outputs": []
    },
    {
      "cell_type": "markdown",
      "source": [
        "Seleccionamos los elementos con indice 3 al 5, sin incluir este uiltimo\n",
        "\n",
        "\n",
        "\n"
      ],
      "metadata": {
        "id": "ji_j54mwSuvZ"
      }
    },
    {
      "cell_type": "code",
      "source": [
        "numeros_pares[3:5]"
      ],
      "metadata": {
        "id": "XYiX8PFfS5a9"
      },
      "execution_count": null,
      "outputs": []
    },
    {
      "cell_type": "markdown",
      "source": [
        "Seleccionamos los elementos con indice 0 al 4, sin incluir este uiltimo"
      ],
      "metadata": {
        "id": "A0HizASrTI8E"
      }
    },
    {
      "cell_type": "code",
      "source": [
        "numeros_pares[:4]"
      ],
      "metadata": {
        "id": "EWYTRZ3tTK11"
      },
      "execution_count": null,
      "outputs": []
    },
    {
      "cell_type": "markdown",
      "source": [
        "Seleccionamos los elementos con indice mayores o iguales a  4"
      ],
      "metadata": {
        "id": "G5jE-hazTMxl"
      }
    },
    {
      "cell_type": "code",
      "source": [
        "numeros_pares[4:]"
      ],
      "metadata": {
        "id": "sUtrVb7vTTLm"
      },
      "execution_count": null,
      "outputs": []
    },
    {
      "cell_type": "markdown",
      "source": [
        "Secuencia completa"
      ],
      "metadata": {
        "id": "nAom4on8Tp7m"
      }
    },
    {
      "cell_type": "code",
      "source": [
        "numeros_pares[:]"
      ],
      "metadata": {
        "id": "Hnp6SoHeTrbu"
      },
      "execution_count": null,
      "outputs": []
    },
    {
      "cell_type": "markdown",
      "source": [
        "Damos una secuencia con saltos de 3 en 3"
      ],
      "metadata": {
        "id": "akauKyXBTxc-"
      }
    },
    {
      "cell_type": "code",
      "source": [
        "numeros_pares[::3]"
      ],
      "metadata": {
        "id": "9f-j2WWxT0NO"
      },
      "execution_count": null,
      "outputs": []
    },
    {
      "cell_type": "markdown",
      "source": [
        "Cambiamos los tres primeros valores"
      ],
      "metadata": {
        "id": "KNKR7i9jUG_3"
      }
    },
    {
      "cell_type": "code",
      "source": [
        "numeros_pares"
      ],
      "metadata": {
        "id": "E6C8vcsNUK3E"
      },
      "execution_count": null,
      "outputs": []
    },
    {
      "cell_type": "code",
      "source": [
        "numeros_pares[0:3]=[\"dos\", \"cuatro\", \"seis\"]\n",
        "\n",
        "numeros_pares"
      ],
      "metadata": {
        "id": "LKJA2VUjUMyU"
      },
      "execution_count": null,
      "outputs": []
    },
    {
      "cell_type": "markdown",
      "source": [
        "Eliminamos el valor \"8\""
      ],
      "metadata": {
        "id": "9eH95WDsUlhD"
      }
    },
    {
      "cell_type": "code",
      "source": [
        "numeros_pares[3:4]= []\n",
        "\n",
        "numeros_pares"
      ],
      "metadata": {
        "id": "NQumPaonUn-T"
      },
      "execution_count": null,
      "outputs": []
    },
    {
      "cell_type": "markdown",
      "source": [
        "Creamos una lista del 1 al 10"
      ],
      "metadata": {
        "id": "xzO2Cvd8VbiO"
      }
    },
    {
      "cell_type": "code",
      "source": [
        "lista_1=[i for i in range(1,11)]\n",
        "\n",
        "lista_1"
      ],
      "metadata": {
        "id": "Zs2LzmoGVnbK"
      },
      "execution_count": null,
      "outputs": []
    },
    {
      "cell_type": "markdown",
      "source": [
        "Eliminar elementos utilizando la sentencia del()"
      ],
      "metadata": {
        "id": "mlQjFYqxV-2A"
      }
    },
    {
      "cell_type": "code",
      "source": [
        "del lista_1[0:5]\n",
        "\n",
        "lista_1"
      ],
      "metadata": {
        "id": "3ws4BbQLWCKg"
      },
      "execution_count": null,
      "outputs": []
    },
    {
      "cell_type": "markdown",
      "source": [
        "Borramos la lista completa"
      ],
      "metadata": {
        "id": "IFkg7bBVWhUJ"
      }
    },
    {
      "cell_type": "code",
      "source": [
        "del lista_1[:]\n",
        "\n",
        "lista_1"
      ],
      "metadata": {
        "id": "GMvdGTzlWi3S"
      },
      "execution_count": null,
      "outputs": []
    },
    {
      "cell_type": "markdown",
      "source": [
        "# Ordenar Listas"
      ],
      "metadata": {
        "id": "kxTZkNqCW6Zl"
      }
    },
    {
      "cell_type": "markdown",
      "source": [
        "sort() es un método en Python que se utiliza para ordenar elementos en una lista de forma ascendente por defecto, o de acuerdo a una función de comparación personalizada."
      ],
      "metadata": {
        "id": "IA7PnlotW8_v"
      }
    },
    {
      "cell_type": "code",
      "source": [
        "edades=[95,38,15,75,25,56,14,7,5,53]"
      ],
      "metadata": {
        "id": "CeiA5ec-XOKE"
      },
      "execution_count": null,
      "outputs": []
    },
    {
      "cell_type": "code",
      "source": [
        "edades.sort() #Por defecto orden ascendente - reverse=False\n",
        "\n",
        "edades"
      ],
      "metadata": {
        "id": "z4l-4SmkXXc-"
      },
      "execution_count": null,
      "outputs": []
    },
    {
      "cell_type": "markdown",
      "source": [
        "Ahora queremos ordenar de forma descendent"
      ],
      "metadata": {
        "id": "RSQN8lJiXl4m"
      }
    },
    {
      "cell_type": "code",
      "source": [
        "edades.sort(reverse=True)\n",
        "\n",
        "edades"
      ],
      "metadata": {
        "id": "KcEH7ct3Xt-A"
      },
      "execution_count": null,
      "outputs": []
    },
    {
      "cell_type": "markdown",
      "source": [
        "sorted() es una función en Python que se utiliza para ordenar elementos en una lista y devolver una nueva lista ordenada sin modificar la lista original. A diferencia del método sort() que ordena la lista in situ, sorted() devuelve una nueva lista ordenada, dejando la lista original intacta."
      ],
      "metadata": {
        "id": "kjP8bR3hYC_Z"
      }
    },
    {
      "cell_type": "code",
      "source": [
        "edades_ascendente = sorted(edades)\n",
        "\n",
        "edades_ascendente"
      ],
      "metadata": {
        "id": "8okLT9dgYOoh"
      },
      "execution_count": null,
      "outputs": []
    },
    {
      "cell_type": "markdown",
      "source": [
        "Tambien podemos ordenar tuplas"
      ],
      "metadata": {
        "id": "g1nBHbNtZLze"
      }
    },
    {
      "cell_type": "code",
      "source": [
        "estudiantes=(\"Beto\", \"Carlos\", \"Ana\")\n",
        "\n",
        "estud_ordenados= sorted(estudiantes)\n",
        "\n",
        "estud_ordenados"
      ],
      "metadata": {
        "id": "4eKxjuTSZNR7"
      },
      "execution_count": null,
      "outputs": []
    },
    {
      "cell_type": "markdown",
      "source": [
        "Búsqueda a través del índice de los elementos de una lista o una tupla."
      ],
      "metadata": {
        "id": "65JpzKsGZmFR"
      }
    },
    {
      "cell_type": "code",
      "source": [
        "edad = [65, 12, 19, 80, 36, 28, 16, 18, 36, 16, 45, 32, 36, 59]\n",
        "edad.index(45)\n"
      ],
      "metadata": {
        "id": "T2H0C0HuZmg6"
      },
      "execution_count": null,
      "outputs": []
    },
    {
      "cell_type": "code",
      "source": [
        "edad.index(43)"
      ],
      "metadata": {
        "id": "E3BmEYAcZ85d"
      },
      "execution_count": null,
      "outputs": []
    },
    {
      "cell_type": "markdown",
      "source": [
        "Verificar si algún valor está en la lista es con el comando in"
      ],
      "metadata": {
        "id": "s91QsX5hZ-gM"
      }
    },
    {
      "cell_type": "code",
      "source": [
        "56 in edad"
      ],
      "metadata": {
        "id": "tftrQYeyaDN7"
      },
      "execution_count": null,
      "outputs": []
    },
    {
      "cell_type": "markdown",
      "source": [
        "Insertar elemenos en una lista - Funcion insert()"
      ],
      "metadata": {
        "id": "RbCAH_uLaTvK"
      }
    },
    {
      "cell_type": "code",
      "source": [
        "vegetales = [\"Espinaca\",\"Apio\"]\n",
        "vegetales.insert(0,\"Lechuga\")\n",
        "vegetales"
      ],
      "metadata": {
        "id": "pHOSxp-gadtB"
      },
      "execution_count": null,
      "outputs": []
    },
    {
      "cell_type": "markdown",
      "source": [
        "Para agregar al final de la lista - Funcion append"
      ],
      "metadata": {
        "id": "wvIlxFuraojj"
      }
    },
    {
      "cell_type": "code",
      "source": [
        "vegetales.append(\"Esparrago\")\n",
        "vegetales"
      ],
      "metadata": {
        "id": "0vXsnjH8ahqB"
      },
      "execution_count": null,
      "outputs": []
    },
    {
      "cell_type": "markdown",
      "source": [
        "Para agregar mas elementos - Comando extend()"
      ],
      "metadata": {
        "id": "RPs9rt3hawoI"
      }
    },
    {
      "cell_type": "code",
      "source": [
        "precio=(10,15,8,30)\n",
        "\n",
        "vegetales.extend(precio)\n",
        "\n",
        "vegetales\n",
        "\n",
        "#Equivalente a concatenar dos listas"
      ],
      "metadata": {
        "id": "VA8ONTG3a6co"
      },
      "execution_count": null,
      "outputs": []
    },
    {
      "cell_type": "markdown",
      "source": [
        "Dejamos vacia la Lista"
      ],
      "metadata": {
        "id": "2NlFG3qTbNH9"
      }
    },
    {
      "cell_type": "code",
      "source": [
        "vegetales.clear()\n",
        "vegetales"
      ],
      "metadata": {
        "id": "VMZaMD5UbO06"
      },
      "execution_count": null,
      "outputs": []
    },
    {
      "cell_type": "markdown",
      "source": [
        "Contamos la cantidad de veces que aparecen elementos dentro de una lista"
      ],
      "metadata": {
        "id": "1Y52X3ZxbWME"
      }
    },
    {
      "cell_type": "code",
      "source": [
        "edades = [15, 21, 16, 19, 20, 16, 19, 15, 21, 17, 18, 24, 20, 24, 21, 19, 18, 16, 19, 16]\n",
        "for edad in range(15, 25):\n",
        "    print(f'La edad {edad} se repite {edades.count(edad)} veces')\n"
      ],
      "metadata": {
        "id": "LDy6iQRrbkY9"
      },
      "execution_count": null,
      "outputs": []
    },
    {
      "cell_type": "markdown",
      "source": [
        "Copiamos una lista"
      ],
      "metadata": {
        "id": "qEKi9mZxb5ci"
      }
    },
    {
      "cell_type": "code",
      "source": [
        "vegetales=['Lechuga', 'Espinaca', 'Apio', 'Esparrago', 'Esparrago']\n",
        "vegetales"
      ],
      "metadata": {
        "id": "0fAKV9Rbb605"
      },
      "execution_count": null,
      "outputs": []
    },
    {
      "cell_type": "code",
      "source": [
        "copia_vegetales = vegetales.copy()\n",
        "\n",
        "copia_vegetales"
      ],
      "metadata": {
        "id": "1x6u_XHdcEiB"
      },
      "execution_count": null,
      "outputs": []
    },
    {
      "cell_type": "markdown",
      "source": [
        "# Listas Multidimensionales"
      ],
      "metadata": {
        "id": "VloI_RkWJPrF"
      }
    },
    {
      "cell_type": "code",
      "source": [
        "# Matriz de calificaciones\n",
        "calificaciones = [\n",
        "    [85, 90, 88],  # Matemáticas\n",
        "    [78, 85, 80],  # Ciencias\n",
        "    [92, 88, 95]   # Historia\n",
        "]\n",
        "\n",
        "# Imprimir la matriz completa\n",
        "print(\"Matriz de Calificaciones:\")\n",
        "for fila in calificaciones:\n",
        "    print(fila)\n"
      ],
      "metadata": {
        "id": "xbb_HmA6JPUX"
      },
      "execution_count": null,
      "outputs": []
    },
    {
      "cell_type": "code",
      "source": [
        "# Acceder a una calificación específica\n",
        "calificacion_ciencias_2 = calificaciones[1][1]\n",
        "print(\"La segunda calificación en Ciencias es:\", calificacion_ciencias_2)\n"
      ],
      "metadata": {
        "id": "qxPIKKbcJsYL"
      },
      "execution_count": null,
      "outputs": []
    },
    {
      "cell_type": "code",
      "source": [
        "# Modificar una calificación\n",
        "calificaciones[2][1] = 90  # Cambiar la segunda calificación en Historia a 90\n",
        "print(\"Matriz de Calificaciones después de la modificación:\")\n",
        "for fila in calificaciones:\n",
        "    print(fila)\n"
      ],
      "metadata": {
        "id": "gTUVVrvOJuJ6"
      },
      "execution_count": null,
      "outputs": []
    },
    {
      "cell_type": "code",
      "source": [
        "# Calcular el promedio de calificaciones por materia\n",
        "promedios = []\n",
        "for fila in calificaciones:\n",
        "    promedio = sum(fila) / len(fila)\n",
        "    promedios.append(promedio)\n",
        "\n",
        "print(\"Promedios de Calificaciones por Materia:\", promedios)"
      ],
      "metadata": {
        "id": "w43XozUgJvqF"
      },
      "execution_count": null,
      "outputs": []
    }
  ]
}