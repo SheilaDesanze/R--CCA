{
  "cells": [
    {
      "cell_type": "markdown",
      "metadata": {
        "id": "SODHViUTV4VF"
      },
      "source": [
        "# Introducción a Matplotlib"
      ]
    },
    {
      "cell_type": "markdown",
      "metadata": {
        "id": "ep3ho3EYV4VF"
      },
      "source": [
        "[Matplotlib](https://matplotlib.org) es una librería que permite la creación de figuras y gráficos de calidad mediante el uso de Python.\n",
        "* Permite la creación de gráficos de manera sencilla y eficiente\n",
        "* Permite la integración de gráficos y figuras en un Jupyter Notebook"
      ]
    },
    {
      "cell_type": "markdown",
      "metadata": {
        "id": "FUfbUHdPV4VF"
      },
      "source": [
        "## Import"
      ]
    },
    {
      "cell_type": "code",
      "execution_count": null,
      "metadata": {
        "id": "w-W56Wf3V4VF"
      },
      "outputs": [],
      "source": [
        "# Instalación de matplotlib\n",
        "!pip install matplotlib"
      ]
    },
    {
      "cell_type": "code",
      "execution_count": 2,
      "metadata": {
        "id": "U1BZDPfYV4VG"
      },
      "outputs": [],
      "source": [
        "import matplotlib\n",
        "import matplotlib.pyplot as plt"
      ]
    },
    {
      "cell_type": "markdown",
      "metadata": {
        "id": "mXiaFUv5V4VH"
      },
      "source": [
        "## Representación gráfica de datos"
      ]
    },
    {
      "cell_type": "markdown",
      "metadata": {
        "id": "Cqf03TbpV4VH"
      },
      "source": [
        "Si a la función de trazado se le da una matriz de datos, la usará como coordenadas en el eje vertical, y utilizará el índice de cada punto de datos en el array como la coordenada horizontal."
      ]
    },
    {
      "cell_type": "code",
      "execution_count": null,
      "metadata": {
        "id": "HF28KytDV4VH"
      },
      "outputs": [],
      "source": [
        "plt.plot([1, 2, 5, 7, 8, 3, 1])\n",
        "plt.show()"
      ]
    },
    {
      "cell_type": "markdown",
      "metadata": {
        "id": "roj-ETB8V4VH"
      },
      "source": [
        "También se puede proporcionar dos matrices: una para el eje horizontal, y otra para el eje vertical."
      ]
    },
    {
      "cell_type": "code",
      "execution_count": null,
      "metadata": {
        "id": "MpTON8aeV4VH"
      },
      "outputs": [],
      "source": [
        "plt.plot([-3, -1, 0, 4, 7], [1, 4, 6, 7, 8])\n",
        "plt.show()"
      ]
    },
    {
      "cell_type": "markdown",
      "metadata": {
        "id": "YXjjPPEMV4VH"
      },
      "source": [
        "Pueden modificarse las logitudes de los ejes para que la figura no se vea tan ajustada"
      ]
    },
    {
      "cell_type": "code",
      "execution_count": null,
      "metadata": {
        "id": "1uvGpj5rV4VI"
      },
      "outputs": [],
      "source": [
        "plt.plot([-3, -1, 0, 4, 7], [1, 4, 6, 7, 8])\n",
        "plt.axis([-4, 8, 0, 10]) # [xmin, xmax, ymin, ymax]\n",
        "plt.show()"
      ]
    },
    {
      "cell_type": "markdown",
      "metadata": {
        "id": "y2n0pHqRV4VI"
      },
      "source": [
        "Se sigue el mismo procedimiento para pintar una función matemática"
      ]
    },
    {
      "cell_type": "code",
      "execution_count": null,
      "metadata": {
        "id": "icFPfH2VV4VI"
      },
      "outputs": [],
      "source": [
        "import numpy as np\n",
        "x = np.linspace(-2, 2, 500)\n",
        "y = x**2\n",
        "\n",
        "plt.plot(x, y)\n",
        "plt.show()"
      ]
    },
    {
      "cell_type": "markdown",
      "metadata": {
        "id": "8awUQjLqV4VI"
      },
      "source": [
        "También pude modificarse el estilo de la gráfica para que contenga más información."
      ]
    },
    {
      "cell_type": "code",
      "execution_count": null,
      "metadata": {
        "id": "E2gTwbcgV4VI"
      },
      "outputs": [],
      "source": [
        "plt.plot(x, y)\n",
        "plt.title(\"Square function\")\n",
        "plt.xlabel(\"x\")\n",
        "plt.ylabel(\"y = x**2\")\n",
        "plt.grid(True)\n",
        "plt.show()"
      ]
    },
    {
      "cell_type": "markdown",
      "metadata": {
        "id": "0z2H_7NxV4VI"
      },
      "source": [
        "Pueden superponerse gráficas y cambiar el estilo de las líneas"
      ]
    },
    {
      "cell_type": "code",
      "execution_count": null,
      "metadata": {
        "id": "TByovRSIV4VI"
      },
      "outputs": [],
      "source": [
        "import numpy as np\n",
        "x = np.linspace(-2, 2, 500)\n",
        "y = x**2\n",
        "y2 = x + 1\n",
        "\n",
        "plt.plot(x, y, 'b--', x, y2, 'g')\n",
        "plt.show()"
      ]
    },
    {
      "cell_type": "code",
      "execution_count": null,
      "metadata": {
        "id": "CvYrtQ7bV4VJ"
      },
      "outputs": [],
      "source": [
        "# Separando en diferentes lineas las funciones\n",
        "import numpy as np\n",
        "x = np.linspace(-2, 2, 500)\n",
        "y = x**2\n",
        "y2 = x + 1\n",
        "\n",
        "plt.plot(x, y, 'b--')\n",
        "plt.plot(x, y2, 'g')\n",
        "plt.show()"
      ]
    },
    {
      "cell_type": "markdown",
      "metadata": {
        "id": "mNcYt6JbV4VJ"
      },
      "source": [
        "Para poder diferenciar entre ambas funciones siempre es recomendable añadir una leyenda"
      ]
    },
    {
      "cell_type": "code",
      "execution_count": null,
      "metadata": {
        "id": "2eBr2VTbV4VJ"
      },
      "outputs": [],
      "source": [
        "import numpy as np\n",
        "x = np.linspace(-2, 2, 500)\n",
        "y = x**2\n",
        "y2 = x + 1\n",
        "\n",
        "plt.plot(x, y, 'b--', label=\"x**2\")\n",
        "plt.plot(x, y2, 'g', label=\"x+1\")\n",
        "plt.legend(loc=\"best\") # La situa en la mejor localización\n",
        "plt.show()"
      ]
    },
    {
      "cell_type": "markdown",
      "metadata": {
        "id": "xlgDGJqtV4VJ"
      },
      "source": [
        "Tambien puede crearse dos graficas que no se superpongan. Estas graficas se organizan en un grid y se denominan subplots."
      ]
    },
    {
      "cell_type": "code",
      "execution_count": null,
      "metadata": {
        "id": "MopUrFr3V4VJ"
      },
      "outputs": [],
      "source": [
        "import numpy as np\n",
        "x = np.linspace(-2, 2, 500)\n",
        "y = x**2\n",
        "y2 = x + 1\n",
        "\n",
        "plt.subplot(1, 2, 1) # 1 rows, 1 columns, 1st subplot\n",
        "plt.plot(x, y, 'b--')\n",
        "\n",
        "plt.subplot(1, 2, 2) # 1 rows, 2 columns, 2nd subplot\n",
        "plt.plot(x, y2, 'g')\n",
        "\n",
        "plt.show()"
      ]
    },
    {
      "cell_type": "markdown",
      "metadata": {
        "id": "P8MbawkpV4VJ"
      },
      "source": [
        "Para que las gráficas no queden tan ajustadas, podemos hacer la figura más grande."
      ]
    },
    {
      "cell_type": "code",
      "execution_count": null,
      "metadata": {
        "id": "nelIs9T2V4VJ"
      },
      "outputs": [],
      "source": [
        "plt.figure(figsize=(14,6))\n",
        "\n",
        "plt.subplot(1, 2, 1) # 1 rows, 1 columns, 1st subplot\n",
        "plt.plot(x, y, 'b--')\n",
        "plt.xlabel(\"x1\", fontsize=14)\n",
        "plt.ylabel(\"y1\", fontsize=14)\n",
        "\n",
        "plt.subplot(1, 2, 2) # 1 rows, 2 columns, 2nd subplot\n",
        "plt.plot(x, y2, 'g')\n",
        "plt.xlabel(\"x2\", fontsize=14)\n",
        "plt.ylabel(\"y2\", fontsize=14)\n",
        "\n",
        "plt.show()"
      ]
    },
    {
      "cell_type": "markdown",
      "metadata": {
        "id": "jz6UBt2lV4VK"
      },
      "source": [
        "## Scatter plots"
      ]
    },
    {
      "cell_type": "code",
      "execution_count": null,
      "metadata": {
        "id": "h0zgBKSAV4VK"
      },
      "outputs": [],
      "source": [
        "from numpy.random import rand\n",
        "x, y = rand(2, 100)\n",
        "plt.scatter(x, y)\n",
        "plt.show()"
      ]
    },
    {
      "cell_type": "code",
      "execution_count": null,
      "metadata": {
        "id": "T1KFc41bV4VK"
      },
      "outputs": [],
      "source": [
        "from numpy.random import rand\n",
        "x, y = rand(2, 100)\n",
        "x2, y2 = rand(2, 100)\n",
        "plt.scatter(x, y, c='red')\n",
        "plt.scatter(x2, y2, c='blue')\n",
        "plt.show()"
      ]
    },
    {
      "cell_type": "markdown",
      "metadata": {
        "id": "0wVpAw-sV4VK"
      },
      "source": [
        "## Histogramas"
      ]
    },
    {
      "cell_type": "code",
      "execution_count": null,
      "metadata": {
        "id": "Arc5Y5cDV4VK"
      },
      "outputs": [],
      "source": [
        "data = [1, 1.1, 1.8, 2, 2.1, 3.2, 3, 3, 3, 3]\n",
        "plt.subplot(211) # 2 rows, 1 columns, 1st subplot\n",
        "plt.hist(data, bins = 10, rwidth=0.8)\n",
        "\n",
        "plt.subplot(212) # 2 rows, 1 columns, 2nd subplot\n",
        "plt.hist(data, bins = [1, 1.5, 2, 2.5, 3], rwidth=0.95)\n",
        "plt.xlabel(\"Value\")\n",
        "plt.ylabel(\"Frequency\")\n",
        "\n",
        "plt.show()"
      ]
    },
    {
      "cell_type": "markdown",
      "metadata": {
        "id": "XBuhLStzV4VK"
      },
      "source": [
        "## Guardar las figuras"
      ]
    },
    {
      "cell_type": "code",
      "execution_count": null,
      "metadata": {
        "id": "9aTjfLSdV4VK"
      },
      "outputs": [],
      "source": [
        "import numpy as np\n",
        "x = np.linspace(-2, 2, 500)\n",
        "y = x**2\n",
        "y2 = x + 1\n",
        "\n",
        "plt.plot(x, y, 'b--', label=\"x**2\")\n",
        "plt.plot(x, y2, 'g', label=\"x+1\")\n",
        "plt.legend(loc=\"best\")\n",
        "plt.savefig(\"mi_grafica.png\", transparent=True)"
      ]
    },
    {
      "cell_type": "code",
      "execution_count": null,
      "metadata": {
        "id": "tAd5qtrBV4VL"
      },
      "outputs": [],
      "source": []
    }
  ],
  "metadata": {
    "kernelspec": {
      "display_name": "Python 3 (ipykernel)",
      "language": "python",
      "name": "python3"
    },
    "language_info": {
      "codemirror_mode": {
        "name": "ipython",
        "version": 3
      },
      "file_extension": ".py",
      "mimetype": "text/x-python",
      "name": "python",
      "nbconvert_exporter": "python",
      "pygments_lexer": "ipython3",
      "version": "3.11.7"
    },
    "colab": {
      "provenance": []
    }
  },
  "nbformat": 4,
  "nbformat_minor": 0
}