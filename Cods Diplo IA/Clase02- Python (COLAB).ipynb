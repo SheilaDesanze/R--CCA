{
  "nbformat": 4,
  "nbformat_minor": 0,
  "metadata": {
    "colab": {
      "provenance": []
    },
    "kernelspec": {
      "name": "python3",
      "display_name": "Python 3"
    },
    "language_info": {
      "name": "python"
    }
  },
  "cells": [
    {
      "cell_type": "markdown",
      "source": [
        "# Ejercicio Clase 01"
      ],
      "metadata": {
        "id": "aRGJfLVQ2NcU"
      }
    },
    {
      "cell_type": "markdown",
      "source": [
        "Clasificador de estatura:\n",
        "\n",
        "Solicita al usuario que ingrese su estatura en centímetros y clasifica su estatura en una de las siguientes categorías: \"Baja\" (menos de 150 cm), \"Media\" (entre 150 cm y 170 cm), \"Alta\" (entre 170 cm y 190 cm) o \"Muy alta\" (más de 190 cm)."
      ],
      "metadata": {
        "id": "1gHWIAKQGGFQ"
      }
    },
    {
      "cell_type": "code",
      "execution_count": null,
      "metadata": {
        "id": "P-bLul860uj4"
      },
      "outputs": [],
      "source": [
        "# Solicitar al usuario que ingrese su estatura en centímetros\n",
        "estatura_cm = float(input(\"Ingrese su estatura en centímetros: \"))\n",
        "\n",
        "# Clasificar la estatura en una de las categorías\n",
        "if estatura_cm < 150:\n",
        "    categoria = \"Baja\"\n",
        "elif 150 <= estatura_cm < 170:\n",
        "    categoria = \"Media\"\n",
        "elif 170 <= estatura_cm < 190:\n",
        "    categoria = \"Alta\"\n",
        "else:\n",
        "    categoria = \"Muy alta\"\n",
        "\n",
        "# Mostrar la categoría de estatura correspondiente\n",
        "print(f\"Su estatura ({estatura_cm} cm) se clasifica como {categoria}.\")\n"
      ]
    },
    {
      "cell_type": "code",
      "source": [
        "print(\"Su estatura (\", estatura_cm, \" cm) se clasifica como \", categoria, \".\", sep='')"
      ],
      "metadata": {
        "id": "UZgz94KFHGFQ"
      },
      "execution_count": null,
      "outputs": []
    },
    {
      "cell_type": "markdown",
      "source": [
        "Clasificador de rendimiento académico:\n",
        "\n",
        "Solicita al usuario que ingrese su calificación final en una asignatura y clasifica su rendimiento académico en una de las siguientes categorías: \"Excelente\" (9 o más), \"Bueno\" (7 o más), \"Suficiente\" (4 o más) o \"Insuficiente\" (menos de 4)."
      ],
      "metadata": {
        "id": "QMAc4RXhGaQd"
      }
    },
    {
      "cell_type": "code",
      "source": [
        "# Solicitar al usuario que ingrese su calificación final en la asignatura\n",
        "calificacion = float(input(\"Ingrese su calificación final en la asignatura: \"))\n",
        "\n",
        "# Clasificar el rendimiento académico en una de las categorías\n",
        "if calificacion >= 9:\n",
        "    rendimiento = \"Excelente\"\n",
        "elif calificacion >= 7:\n",
        "    rendimiento = \"Bueno\"\n",
        "elif calificacion >= 4:\n",
        "    rendimiento = \"Suficiente\"\n",
        "else:\n",
        "    rendimiento = \"Insuficiente\"\n",
        "\n",
        "# Mostrar la categoría de rendimiento académico correspondiente\n",
        "print(f\"Su rendimiento académico (calificación: {calificacion}) se clasifica como {rendimiento}.\")\n"
      ],
      "metadata": {
        "id": "cz-k_RZvGhSr"
      },
      "execution_count": null,
      "outputs": []
    },
    {
      "cell_type": "code",
      "source": [
        "print(\"Su rendimiento académico (calificación:\", calificacion, \") se clasifica como\", rendimiento + \".\")"
      ],
      "metadata": {
        "id": "dVhL-blUGzWv"
      },
      "execution_count": null,
      "outputs": []
    },
    {
      "cell_type": "markdown",
      "source": [
        "Calcular el índice de masa corporal (IMC):\n",
        "\n",
        "Solicita al usuario que ingrese su peso en kilogramos y su altura en metros. Calcula su índice de masa corporal (IMC) utilizando la fórmula IMC = peso / altura^2. Luego, muestra un mensaje que indique si la persona está bajo peso, peso normal, sobrepeso o obeso, según el valor de su IMC.\n"
      ],
      "metadata": {
        "id": "GxOmoaxcGuH8"
      }
    },
    {
      "cell_type": "code",
      "source": [
        "# Solicitar al usuario que ingrese su peso en kilogramos y su altura en metros\n",
        "peso = float(input(\"Ingrese su peso en kilogramos: \"))\n",
        "altura = float(input(\"Ingrese su altura en metros: \"))\n",
        "\n",
        "# Calcular el índice de masa corporal (IMC)\n",
        "imc = peso / (altura ** 2)\n",
        "\n",
        "# Clasificar el IMC en una de las categorías\n",
        "if imc < 18.5:\n",
        "    categoria = \"Bajo peso\"\n",
        "elif 18.5 <= imc < 25:\n",
        "    categoria = \"Peso normal\"\n",
        "elif 25 <= imc < 30:\n",
        "    categoria = \"Sobrepeso\"\n",
        "else:\n",
        "    categoria = \"Obeso\"\n",
        "\n",
        "# Mostrar la categoría correspondiente según el IMC\n",
        "print(\"Su índice de masa corporal (IMC) es:\", imc)\n",
        "print(\"Según su IMC, usted tiene:\", categoria)\n"
      ],
      "metadata": {
        "id": "YN9-d0_dHDTp"
      },
      "execution_count": null,
      "outputs": []
    },
    {
      "cell_type": "markdown",
      "source": [
        "# Seguimos con Sentencias"
      ],
      "metadata": {
        "id": "_KN2NIGL2Ss-"
      }
    },
    {
      "cell_type": "markdown",
      "source": [
        "## Sentencia while"
      ],
      "metadata": {
        "id": "XZC8RywS2Wne"
      }
    },
    {
      "cell_type": "markdown",
      "source": [
        "Contador Simple\n",
        "Queremos contar del 1 al 5 e imprimir cada número. Para hacer esto, podemos usar un bucle 'while'."
      ],
      "metadata": {
        "id": "jHyJ5eAK2YOJ"
      }
    },
    {
      "cell_type": "code",
      "source": [],
      "metadata": {
        "id": "DRle6CeS2oPH"
      },
      "execution_count": null,
      "outputs": []
    },
    {
      "cell_type": "markdown",
      "source": [
        "1ª Iteración:\n",
        "\n",
        "contador = 1\n",
        "\n",
        "Se imprime 1\n",
        "\n",
        "Se incrementa contador a 2\n",
        "\n",
        "\n",
        "2ª Iteración:\n",
        "\n",
        "contador = 2\n",
        "\n",
        "Se imprime 2\n",
        "\n",
        "Se incrementa contador a 3\n",
        "\n",
        "\n",
        "3ª Iteración:\n",
        "\n",
        "contador = 3\n",
        "\n",
        "Se imprime 3\n",
        "\n",
        "Se incrementa contador a 4\n",
        "\n",
        "\n",
        "4ª Iteración:\n",
        "\n",
        "contador = 4\n",
        "\n",
        "Se imprime 4\n",
        "\n",
        "Se incrementa contador a 5\n",
        "\n",
        "\n",
        "5ª Iteración:\n",
        "\n",
        "contador = 5\n",
        "\n",
        "Se imprime 5\n",
        "\n",
        "Se incrementa contador a 6\n",
        "\n",
        "Fin del bucle:\n",
        "\n",
        "El bucle termina porque contador = 6 y la condición contador <= 5 ya no se cumple."
      ],
      "metadata": {
        "id": "tAEl_ARmvyGX"
      }
    },
    {
      "cell_type": "markdown",
      "source": [
        "## Sentencia for"
      ],
      "metadata": {
        "id": "09IKX3EH3XEB"
      }
    },
    {
      "cell_type": "markdown",
      "source": [
        "Para la palabra \"DIPLOMATURA\", escribe cada carácter separado por un espacio."
      ],
      "metadata": {
        "id": "088HJJfT3a5f"
      }
    },
    {
      "cell_type": "code",
      "source": [],
      "metadata": {
        "id": "QQjO0Gj335cW"
      },
      "execution_count": null,
      "outputs": []
    },
    {
      "cell_type": "markdown",
      "source": [
        "Recorre la lista de elementos e imprime cada uno de ellos. La lista de elementos es [\"manzana\", \"banana\", \"uva\", \"naranja\"]."
      ],
      "metadata": {
        "id": "u3iFn1uo35u6"
      }
    },
    {
      "cell_type": "code",
      "source": [],
      "metadata": {
        "id": "Pm-_2vTl5K1J"
      },
      "execution_count": null,
      "outputs": []
    },
    {
      "cell_type": "markdown",
      "source": [
        "Recorre los elementos de la siguiente tupla e imprime cada uno de ellos. La tupla es (1,2,3,4,5).\n",
        "\n"
      ],
      "metadata": {
        "id": "Q1D0kk445p0G"
      }
    },
    {
      "cell_type": "code",
      "source": [
        "for numero in (1,2,3,4,5):\n",
        "  print (numero)"
      ],
      "metadata": {
        "id": "rajFV56N59Fi"
      },
      "execution_count": null,
      "outputs": []
    },
    {
      "cell_type": "markdown",
      "source": [
        "Recorre los elementos de la siguiente tupla e imprime cada uno de ellos. La tupla es [1,2,3,4,5].\n"
      ],
      "metadata": {
        "id": "Mqk84RdI6Nfl"
      }
    },
    {
      "cell_type": "code",
      "source": [
        "for numero in [1,2,3,4,5]:\n",
        "  print (numero)"
      ],
      "metadata": {
        "id": "6KLbsO0d6R97"
      },
      "execution_count": null,
      "outputs": []
    },
    {
      "cell_type": "markdown",
      "source": [
        "Calcula el factorial de 5 utilizando un bucle.\n",
        "\n",
        "5!=1 * 2 * 3 * 4 * 5"
      ],
      "metadata": {
        "id": "SAr7Uk2t97yi"
      }
    },
    {
      "cell_type": "code",
      "source": [
        "# Inicializamos la variable para almacenar el resultado\n",
        "factorial = 1\n",
        "\n",
        "# Calculamos el factorial de 5 usando un bucle for\n",
        "for i in [1,2,3,4,5]:\n",
        "    factorial *= i\n",
        "\n",
        "# Imprimimos el resultado\n",
        "print(\"El factorial de 5 es:\", factorial)\n"
      ],
      "metadata": {
        "id": "EhGxoAyC-Jq_"
      },
      "execution_count": null,
      "outputs": []
    },
    {
      "cell_type": "markdown",
      "source": [
        "La expresión factorial *= i es una forma abreviada de escribir factorial = factorial * i.\n",
        "\n",
        "En cada iteración, el valor actual de factorial se multiplica por i y se actualiza con el nuevo valor.\n",
        "\n",
        "Aquí está el paso a paso de cómo se calcula:\n",
        "*   Iteración 1: i = 1, factorial = 1 * 1 = 1\n",
        "*   Iteración 2: i = 2, factorial = 1 * 2 = 2\n",
        "*   Iteración 3: i = 3, factorial = 2 * 3 = 6\n",
        "*   Iteración 4: i = 4, factorial = 6 * 4 = 24\n",
        "*   Iteración 5: i = 5, factorial = 24 * 5 = 120\n",
        "\n",
        "\n",
        "\n",
        "\n",
        "\n",
        "\n"
      ],
      "metadata": {
        "id": "pvsrAfmJ_Rlp"
      }
    },
    {
      "cell_type": "markdown",
      "source": [
        "## range"
      ],
      "metadata": {
        "id": "-wnfF4kU_aY6"
      }
    },
    {
      "cell_type": "markdown",
      "source": [
        "Utiliza la función range() para generar una secuencia de números del 0 al 10, y luego imprime estos números."
      ],
      "metadata": {
        "id": "-rqorsraEwGa"
      }
    },
    {
      "cell_type": "code",
      "source": [],
      "metadata": {
        "id": "iN0SaoK6E_M1"
      },
      "execution_count": null,
      "outputs": []
    },
    {
      "cell_type": "code",
      "source": [
        "rango = range(11)\n",
        "valores = list(rango)\n",
        "print(valores)\n"
      ],
      "metadata": {
        "id": "7EHCuFgeC7mc"
      },
      "execution_count": null,
      "outputs": []
    },
    {
      "cell_type": "markdown",
      "source": [
        "Utiliza la función range() para generar una secuencia de números del 4 al 20, con un paso de 2 entre cada número, y luego imprime estos números.\n",
        "\n",
        "\\"
      ],
      "metadata": {
        "id": "j3x5sQ9eFD8I"
      }
    },
    {
      "cell_type": "code",
      "source": [
        "numeros = list(range(4, 21, 2))\n",
        "print(numeros)\n"
      ],
      "metadata": {
        "id": "v6RaOr6tFQa7"
      },
      "execution_count": null,
      "outputs": []
    },
    {
      "cell_type": "markdown",
      "source": [
        "## range () y for"
      ],
      "metadata": {
        "id": "q-xqFYusFbQ_"
      }
    },
    {
      "cell_type": "markdown",
      "source": [
        "Utiliza la función range() para generar una secuencia de números del 5 al 50, con un paso de 5 entre cada número, y luego imprime estos números."
      ],
      "metadata": {
        "id": "Si9L5ALRFfHT"
      }
    },
    {
      "cell_type": "code",
      "source": [
        "for numero in range(5, 51, 5):\n",
        "    print(numero)\n"
      ],
      "metadata": {
        "id": "Di0mDwA5FkH_"
      },
      "execution_count": null,
      "outputs": []
    },
    {
      "cell_type": "markdown",
      "source": [
        "Calcula el factorial para cualquier valor que ingrese el usuario.\n"
      ],
      "metadata": {
        "id": "9lFvFF0rFuol"
      }
    },
    {
      "cell_type": "code",
      "source": [
        "# Solicitamos al usuario que ingrese un número\n",
        "numero = int(input(\"Ingresa un número para calcular su factorial: \"))\n",
        "\n",
        "# Inicializamos el factorial en 1\n",
        "factorial = 1\n",
        "\n",
        "# Calculamos el factorial\n",
        "for i in range(1, numero + 1):\n",
        "    factorial *= i\n",
        "\n",
        "# Mostramos el resultado\n",
        "print(\"El factorial de\", numero, \"es:\", factorial)\n",
        "\n"
      ],
      "metadata": {
        "id": "bJWRKpECF3L_"
      },
      "execution_count": null,
      "outputs": []
    },
    {
      "cell_type": "markdown",
      "source": [
        "Tenemos en cuenta si alguien ingresa un numero negativo"
      ],
      "metadata": {
        "id": "Hcc7FL-axzXb"
      }
    },
    {
      "cell_type": "code",
      "source": [],
      "metadata": {
        "id": "oqGAMYUQx0IC"
      },
      "execution_count": null,
      "outputs": []
    },
    {
      "cell_type": "markdown",
      "source": [
        "## Ejercicio sentencia for"
      ],
      "metadata": {
        "id": "mfsMTmKfH4Vr"
      }
    },
    {
      "cell_type": "markdown",
      "source": [
        "A la cafeteria de FCE entran 8 personas a consumir diversos productos. La siguiente lista describe los consumos (en pesos) realizados por los clientes [130 , 85, 210 , 45 , 153 , 78.5 , 264.5 , 94 ]\n",
        "\n",
        "Elabora un programa que calcule el consumo promedio realizada por estos clientes."
      ],
      "metadata": {
        "id": "kl1W7n-WGcQm"
      }
    },
    {
      "cell_type": "code",
      "source": [
        "\n",
        "suma_tot = 0\n",
        "contador_clientes = 0\n",
        "consumos = [130, 85, 210, 45, 153, 78.5, 264.5, 94]\n",
        "\n",
        "for consumo in consumos:\n",
        "    suma_tot += consumo\n",
        "    contador_clientes += 1\n",
        "\n",
        "consumo_prom = suma_tot / contador_clientes\n",
        "print(\"El consumo promedio es:\",consumo_prom)"
      ],
      "metadata": {
        "id": "sJdb7g9DHSUG"
      },
      "execution_count": null,
      "outputs": []
    },
    {
      "cell_type": "markdown",
      "source": [],
      "metadata": {
        "id": "cj9JVV0wHhoA"
      }
    },
    {
      "cell_type": "markdown",
      "source": [
        "¿Como puedo contar la cantidad de elementos en la lista ?"
      ],
      "metadata": {
        "id": "IQ6ylMwbygkj"
      }
    },
    {
      "cell_type": "code",
      "source": [],
      "metadata": {
        "id": "NIZ7vy7SyjXa"
      },
      "execution_count": null,
      "outputs": []
    },
    {
      "cell_type": "markdown",
      "source": [
        "# Operadores Booleanos"
      ],
      "metadata": {
        "id": "Nd668Ug1M-ba"
      }
    },
    {
      "cell_type": "markdown",
      "source": [
        "## Operador Booleano AND"
      ],
      "metadata": {
        "id": "FxJzKdvrNA5H"
      }
    },
    {
      "cell_type": "markdown",
      "source": [
        "Queremos saber si una persona puede conducir legalmente. Debemos verificar que sea mayor de 18 años y tenga registro de conducir."
      ],
      "metadata": {
        "id": "xKe73O8iNDBa"
      }
    },
    {
      "cell_type": "code",
      "source": [
        "edad =int(input(\"Ingresar edad: \"))\n",
        "tiene_licencia = input(\"¿Tiene registro de conducir? (si o no): \")\n",
        "\n",
        "if edad >= 18 and tiene_licencia== 'si':\n",
        "    print(\"Puede conducir legalmente.\")\n",
        "else:\n",
        "  print(\"No cumple con los requisitos para conducir.\")"
      ],
      "metadata": {
        "id": "9enCLeSaNP_6"
      },
      "execution_count": null,
      "outputs": []
    },
    {
      "cell_type": "markdown",
      "source": [
        "Mejoramos el codigo"
      ],
      "metadata": {
        "id": "dyOZ_ZXuM-Jc"
      }
    },
    {
      "cell_type": "code",
      "source": [
        "edad = int(input(\"Ingresa tu edad: \"))\n",
        "tiene_licencia = input(\"¿Tienes licencia de conducir? (si/no): \")\n",
        "\n",
        "# varibale.lower() : convierte a minusculas el texto\n",
        "if edad >= 18 and tiene_licencia.lower() == 'si':\n",
        "    print(\"¡Puedes conducir legalmente!\")\n",
        "else:\n",
        "    print(\"Lo siento, no cumples con los requisitos para conducir.\")\n"
      ],
      "metadata": {
        "id": "ZNqigpDiOBK8"
      },
      "execution_count": null,
      "outputs": []
    },
    {
      "cell_type": "markdown",
      "source": [
        "## Operador Booleano OR"
      ],
      "metadata": {
        "id": "p70iCV3hOmiJ"
      }
    },
    {
      "cell_type": "markdown",
      "source": [
        "Somos reclutadores en una empresa y queremos filtrar a los posibles candidatos, necesitamos que cumpla una de las dos conciones: que sea estudiante de Cs. Economicas o tenga 3 años de experiencia."
      ],
      "metadata": {
        "id": "HfspEK_8Oorg"
      }
    },
    {
      "cell_type": "code",
      "source": [
        "es_graduado_economia = False\n",
        "experiencia_años = 5\n",
        "\n",
        "if es_graduado_economia or experiencia_años >= 3:\n",
        "    print(\"Posible candidato, cumple con los requisitos\")\n",
        "else:\n",
        "    print(\"No cumples con los requisitos para el trabajo.\")"
      ],
      "metadata": {
        "id": "ZWHeuCdoOtYn"
      },
      "execution_count": null,
      "outputs": []
    },
    {
      "cell_type": "markdown",
      "source": [
        "# Funciones - def"
      ],
      "metadata": {
        "id": "S0BXIr0-hS5K"
      }
    },
    {
      "cell_type": "markdown",
      "source": [
        "Funcion que suma dos numeros"
      ],
      "metadata": {
        "id": "wlHm8u6EhXh4"
      }
    },
    {
      "cell_type": "code",
      "source": [
        "def suma(a,b):\n",
        "  resultado = a+b\n",
        "  return resultado\n",
        "\n",
        "suma(5,2)"
      ],
      "metadata": {
        "id": "bAE-a_z8hhuR"
      },
      "execution_count": null,
      "outputs": []
    },
    {
      "cell_type": "markdown",
      "source": [
        "Mejoramos la funcion"
      ],
      "metadata": {
        "id": "ALzaA-wAhzIm"
      }
    },
    {
      "cell_type": "code",
      "source": [
        "def sumar_numeros():\n",
        "    # Solicitar al usuario que ingrese dos números\n",
        "    # float es un tipo de datos utilizado para representar numeros reales que tienen parte decimal\n",
        "    numero1 = float(input(\"Ingrese el primer número: \"))\n",
        "    numero2 = float(input(\"Ingrese el segundo número: \"))\n",
        "\n",
        "    # Sumar los dos números\n",
        "    suma = numero1 + numero2\n",
        "\n",
        "    # Retornar el resultado\n",
        "    return suma\n",
        "\n",
        "# Llamar a la función y almacenar el resultado en una variable\n",
        "resultado = sumar_numeros()\n",
        "\n",
        "# Imprimir el resultado\n",
        "print(\"La suma de los dos números es:\", resultado)\n"
      ],
      "metadata": {
        "id": "jw8i7caLh1cJ"
      },
      "execution_count": null,
      "outputs": []
    },
    {
      "cell_type": "markdown",
      "source": [
        "Escribe un programa que solicite al usuario que ingrese dos números y luego le pregunte qué operación desea realizar entre ellos: suma, resta, multiplicación o división. El programa deberá realizar la operación seleccionada y mostrar el resultado al usuario."
      ],
      "metadata": {
        "id": "dm5HLn9hiS_A"
      }
    },
    {
      "cell_type": "code",
      "source": [
        "def calcular_operacion():\n",
        "\n",
        "    numero1=float(input(\"Ingresar el primer numero: \"))\n",
        "    numero2=float(input(\"Ingresar el segundo numero: \"))\n",
        "    ing_operacion=input(\"¿Qué operación desea realizar? (suma, resta, multiplicacion, division): \")\n",
        "    operacion = ing_operacion.lower()\n",
        "\n",
        "    if operacion == 'suma':\n",
        "        return numero1 + numero2\n",
        "    elif operacion == 'resta':\n",
        "        return numero1 - numero2\n",
        "    elif operacion == 'multiplicacion':\n",
        "        return numero1 * numero2\n",
        "    elif operacion == 'division':\n",
        "        if numero2 != 0:\n",
        "            return numero1 / numero2\n",
        "        else:\n",
        "            return \"Error: No se puede dividir por cero.\"\n",
        "    else:\n",
        "        return \"Error: Operación no válida.\"\n",
        "\n",
        "calcular_operacion()\n"
      ],
      "metadata": {
        "id": "PT48SDyoikuW"
      },
      "execution_count": null,
      "outputs": []
    },
    {
      "cell_type": "markdown",
      "source": [
        "Recordamos el siguiente codigo visto la clase anterior"
      ],
      "metadata": {
        "id": "Xx1qjlIxkJ28"
      }
    },
    {
      "cell_type": "code",
      "source": [
        "# Solicitar la edad de la persona\n",
        "edad = int(input(\"Por favor, ingrese su edad: \"))\n",
        "\n",
        "# Evaluar las condiciones y mostrar el mensaje correspondiente\n",
        "if edad >= 60:\n",
        "    print(\"Adulto Mayor\")\n",
        "elif edad >= 27:\n",
        "    print(\"Adulto\")\n",
        "elif edad >= 18:\n",
        "    print(\"Joven\")\n",
        "elif edad >= 12:\n",
        "    print(\"Adolescente\")\n",
        "else:\n",
        "    print(\"Infante\")"
      ],
      "metadata": {
        "id": "nEF_WczfkM8-"
      },
      "execution_count": null,
      "outputs": []
    },
    {
      "cell_type": "markdown",
      "source": [
        "Ahora, vamos a transformar este codigo en una funcion utilizando def\n"
      ],
      "metadata": {
        "id": "4hSOidc1kOQ2"
      }
    },
    {
      "cell_type": "code",
      "source": [],
      "metadata": {
        "id": "mN3yd38akkUI"
      },
      "execution_count": null,
      "outputs": []
    },
    {
      "cell_type": "markdown",
      "source": [
        "# Import random"
      ],
      "metadata": {
        "id": "Vz95yoiJuRrR"
      }
    },
    {
      "cell_type": "markdown",
      "source": [
        "Importamos nuestra primera biblioteca  random"
      ],
      "metadata": {
        "id": "ndjfGJS0uj3F"
      }
    },
    {
      "cell_type": "code",
      "source": [],
      "metadata": {
        "id": "vAseR5ApupCq"
      },
      "execution_count": 45,
      "outputs": []
    },
    {
      "cell_type": "markdown",
      "source": [
        "El siguiente código muestra los resultados de simular el lanzamiento de una moneda, supongamos que  si sale 1 es como si el resultado de un lanzamiento es cara, y si muestra un 0, el resultado es un ceca."
      ],
      "metadata": {
        "id": "Z0wHYhsEv7Wu"
      }
    },
    {
      "cell_type": "code",
      "source": [
        "import random\n",
        "\n",
        "for tirada in range(10):\n",
        "  resultado = random.randrange(0,2) # Genera un número aleatorio entre 1 y 2 - Genera numeros aleatorios en el rango [a,b)\n",
        "  print (resultado, end=' ')"
      ],
      "metadata": {
        "id": "j6u2kQ5IwAt4"
      },
      "execution_count": null,
      "outputs": []
    },
    {
      "cell_type": "markdown",
      "source": [
        "Vamos a simular el lanzamiento de un dado 10 veces e imprime los resultados obtenidos en cada lanzamiento."
      ],
      "metadata": {
        "id": "q0vXv02szXnq"
      }
    },
    {
      "cell_type": "code",
      "source": [],
      "metadata": {
        "id": "YdbNy1L4zgy4"
      },
      "execution_count": null,
      "outputs": []
    },
    {
      "cell_type": "markdown",
      "source": [
        "Simula el lanzamiento de un dado 100 veces e imprime los resultados obtenidos en cada lanzamiento."
      ],
      "metadata": {
        "id": "J8WQOX16zobq"
      }
    },
    {
      "cell_type": "code",
      "source": [],
      "metadata": {
        "id": "eTXs86Y9zpvb"
      },
      "execution_count": null,
      "outputs": []
    },
    {
      "cell_type": "markdown",
      "source": [
        "Ahora vamos a escribir un código que simule el lanzamiento de una moneda 100 mil veces. No vamos a mostrar 100 mil resultados, solo una pequeña tabla con todas la cantidad de veces que salio cada lado de la moneda."
      ],
      "metadata": {
        "id": "QLQQ55042uj7"
      }
    },
    {
      "cell_type": "code",
      "source": [
        "import random\n",
        "contadorcara=0\n",
        "contadorcruz=0\n",
        "for tiro in range(100000):\n",
        "  resultado = random.randrange(0,2)\n",
        "  if resultado == 1:\n",
        "    contadorcara += 1\n",
        "  elif resultado == 0:\n",
        "    contadorcruz += 1\n",
        "print (\"En tas 100 mil tiradas salio:\")\n",
        "print (\"Cara:\", contadorcara)\n",
        "print (\"Cruz:\", contadorcruz)\n",
        "print (\"TOTAL de tiradas: \", contadorcara + contadorcruz)"
      ],
      "metadata": {
        "id": "jlx8wnQsYX2z"
      },
      "execution_count": null,
      "outputs": []
    },
    {
      "cell_type": "markdown",
      "source": [
        "Si queremos obligar a que random siempre nos de los mismos resultados, podemos usar seed. Arma una semilla de 25 y ejecuta el código 2 veces, veamos como se repita (seed necesita repetirse 2 veces tmb)"
      ],
      "metadata": {
        "id": "ahfMgbwjYyIk"
      }
    },
    {
      "cell_type": "code",
      "source": [
        "random.seed(21)\n",
        "for tirada in range (10):\n",
        "  print (random.randrange(0,2), end =\" ,\")"
      ],
      "metadata": {
        "id": "SjNsWuzfY6W2"
      },
      "execution_count": null,
      "outputs": []
    },
    {
      "cell_type": "code",
      "source": [
        "random.seed(21)\n",
        "for tirada in range (10):\n",
        "  print (random.randrange(0,2), end =\" ,\")"
      ],
      "metadata": {
        "id": "EluJNs3pZAkn"
      },
      "execution_count": null,
      "outputs": []
    },
    {
      "cell_type": "markdown",
      "source": [
        "Usa un bucle for, randrange y una expresión condicional para simular 20 tiros de moneda, mosrando S para cara y C para ceca"
      ],
      "metadata": {
        "id": "jl13nXnpcyO3"
      }
    },
    {
      "cell_type": "code",
      "source": [],
      "metadata": {
        "id": "NqPTwlNfdBiV"
      },
      "execution_count": null,
      "outputs": []
    },
    {
      "cell_type": "markdown",
      "source": [
        "# Juego - \"El Gran 8\""
      ],
      "metadata": {
        "id": "4czSmAW9ZBUh"
      }
    },
    {
      "cell_type": "markdown",
      "source": [
        "Es momento de jugar a \"El Gran 8\".\n",
        "\n",
        "La Reglas del juego. Debes lanzar un par de dados. Si la suma de las caras es un 8, ganas. Si sale\n",
        "7, pierdes. Si no ha salido, ni 8, ni 7, puedes seguir lanzando. Si sale 8 ganas, pero si en algún otro\n",
        "lanzamiento sale 7, pierdes."
      ],
      "metadata": {
        "id": "BN7ahbK3ZJPZ"
      }
    },
    {
      "cell_type": "code",
      "source": [
        "import random\n",
        "\n",
        "def lanzar_dados():\n",
        "    # Genera dos números aleatorios entre 1 y 6 (inclusive) para simular el lanzamiento de dos dados\n",
        "    dado1 = random.randint(1, 6)\n",
        "    dado2 = random.randint(1, 6)\n",
        "    return (dado1, dado2)\n",
        "\n",
        "def mostrar_dados(dados):\n",
        "    # Desempaqueta los valores de los dados y muestra el resultado\n",
        "    dado1, dado2 = dados\n",
        "    print(f'El resultado de la jugada es {dado1} + {dado2} = {sum(dados)}')\n",
        "\n",
        "# Lanza los dados por primera vez\n",
        "valores_logrados = lanzar_dados()\n",
        "# Muestra los resultados del primer lanzamiento\n",
        "mostrar_dados(valores_logrados)\n",
        "# Calcula la suma de los valores obtenidos en el primer lanzamiento\n",
        "suma_dados = sum(valores_logrados)\n",
        "\n",
        "# Determina el estado del jugador basado en la suma del primer lanzamiento\n",
        "if suma_dados == 8:\n",
        "    status_jugador = \"Ganaste\"\n",
        "elif suma_dados == 7:\n",
        "    status_jugador = \"Perdiste\"\n",
        "else:\n",
        "    status_jugador = \"Continua Lanzando\"\n",
        "    print(\"Sigue jugando, encuentra al Gran 8\")\n",
        "\n",
        "# Continua lanzando los dados mientras el estado sea \"Continua Lanzando\"\n",
        "while status_jugador == \"Continua Lanzando\":\n",
        "    # Lanza los dados nuevamente\n",
        "    valores_logrados = lanzar_dados()\n",
        "    # Muestra los resultados del nuevo lanzamiento\n",
        "    mostrar_dados(valores_logrados)\n",
        "    # Calcula la suma de los valores obtenidos en el nuevo lanzamiento\n",
        "    suma_dados = sum(valores_logrados)\n",
        "    # Determina el nuevo estado del jugador basado en la suma del lanzamiento\n",
        "    if suma_dados == 8:\n",
        "        status_jugador = \"Ganaste\"\n",
        "    elif suma_dados == 7:\n",
        "        status_jugador = \"Perdiste\"\n",
        "\n",
        "# Imprime el resultado final del juego\n",
        "print(\"El resultado es:\", status_jugador)\n"
      ],
      "metadata": {
        "id": "gY-gvK3fZKDh"
      },
      "execution_count": null,
      "outputs": []
    },
    {
      "cell_type": "markdown",
      "source": [
        "# Visualización de Datos Estáticos"
      ],
      "metadata": {
        "id": "yOE24w0WlD6R"
      }
    },
    {
      "cell_type": "markdown",
      "source": [
        "Importamos las librerias que vamos a utilizar"
      ],
      "metadata": {
        "id": "Qh9QVPPrlIPc"
      }
    },
    {
      "cell_type": "code",
      "source": [
        "# Importación de las bibliotecas necesarias\n",
        "import matplotlib.pyplot as plt  # Para la creación de gráficos\n",
        "import numpy as np  # Para cálculos numéricos y manipulación de matrices\n",
        "import random  # Para la generación de números aleatorios\n",
        "import seaborn as sns  # Para mejorar el estilo visual de los gráficos"
      ],
      "metadata": {
        "id": "1L3UftURowZ8"
      },
      "execution_count": 36,
      "outputs": []
    },
    {
      "cell_type": "markdown",
      "source": [
        "Creamos una lista con todos los resultados de tiros de dados y llamemosla “tiros_dados”.\n"
      ],
      "metadata": {
        "id": "T2W0GcWfpAdo"
      }
    },
    {
      "cell_type": "code",
      "source": [
        "# Generar 600 tiros de dados y almacenar los resultados en una lista\n",
        "tiros_dados = [random.randrange(1, 7) for i in range(600)]"
      ],
      "metadata": {
        "id": "oS92SRaAptOu"
      },
      "execution_count": 50,
      "outputs": []
    },
    {
      "cell_type": "markdown",
      "source": [
        "Creamos dos variables, una para identificar los valores y otra para ver la frecuencia de aparición."
      ],
      "metadata": {
        "id": "UFvW_oG0pviG"
      }
    },
    {
      "cell_type": "code",
      "source": [
        "# Utilizar NumPy para calcular los valores únicos y sus frecuencias en la lista de tiros de dados\n",
        "valores, frecuencias = np.unique(tiros_dados, return_counts=True)"
      ],
      "metadata": {
        "id": "ln5h8hnAqPW2"
      },
      "execution_count": 51,
      "outputs": []
    },
    {
      "cell_type": "markdown",
      "source": [
        "Grafica - Declaramos el titulo del grafico"
      ],
      "metadata": {
        "id": "ycopnlFgqQD4"
      }
    },
    {
      "cell_type": "code",
      "source": [
        "# Crear un título dinámico para el gráfico que indica el número de veces que se lanzaron los dados\n",
        "titulo = f'Resultados de tirar los dados {len(tiros_dados)} veces'\n"
      ],
      "metadata": {
        "id": "xaxlnswGqnSn"
      },
      "execution_count": 52,
      "outputs": []
    },
    {
      "cell_type": "markdown",
      "source": [
        "Grafica - Definimos el Estilo y Creamos el grafico de Barras"
      ],
      "metadata": {
        "id": "wwyLx5u9qsUc"
      }
    },
    {
      "cell_type": "code",
      "source": [
        "# Establecer el estilo de fondo del gráfico utilizando seaborn\n",
        "sns.set_style('whitegrid')\n",
        "\n",
        "# Crear un gráfico de barras utilizando seaborn, donde los valores únicos son representados en el eje x\n",
        "# y las frecuencias de aparición de cada valor son representadas en el eje y\n",
        "# Se utiliza la paleta de colores 'bright' para una mejor visualización\n",
        "axes = sns.barplot(x=valores, y=frecuencias, palette=\"bright\")\n",
        "\n"
      ],
      "metadata": {
        "id": "vEz5tVCdrbHq"
      },
      "execution_count": null,
      "outputs": []
    },
    {
      "cell_type": "markdown",
      "source": [
        "Grafica - Establecer titulo del grafico y etiqueta de los ejes"
      ],
      "metadata": {
        "id": "gPmB825Jry5b"
      }
    },
    {
      "cell_type": "code",
      "source": [
        "# Item anterior\n",
        "sns.set_style('whitegrid')\n",
        "axes = sns.barplot(x=valores, y=frecuencias, palette=\"bright\")\n",
        "\n",
        "#Lo que agregamos ...\n",
        "\n",
        "# Establecer el título del gráfico utilizando el título dinámico creado previamente\n",
        "axes.set_title(titulo)\n",
        "\n",
        "# Establecer las etiquetas de los ejes x e y del gráfico\n",
        "# El eje x representa los valores únicos, mientras que el eje y representa las frecuencias de aparición\n",
        "axes.set(xlabel='Valores', ylabel='Frecuencias')\n"
      ],
      "metadata": {
        "id": "dXV0Dskvs2TA"
      },
      "execution_count": null,
      "outputs": []
    },
    {
      "cell_type": "markdown",
      "source": [],
      "metadata": {
        "id": "BG1qVosBsJoU"
      }
    },
    {
      "cell_type": "code",
      "source": [
        "# Item anterior\n",
        "sns.set_style('whitegrid')\n",
        "axes = sns.barplot(x=valores, y=frecuencias, palette=\"bright\")\n",
        "axes.set_title(titulo)\n",
        "axes.set(xlabel='Valores', ylabel='Frecuencias')\n",
        "\n",
        "#Lo que agregamos ...\n",
        "\n",
        "# Iterar sobre cada barra del gráfico y su correspondiente frecuencia de aparición\n",
        "for bar, frecuencias in zip(axes.patches, frecuencias):\n",
        "    # Calcular la posición x y y del texto que se añadirá a cada barra\n",
        "    text_x = bar.get_x() + bar.get_width() / 2.0\n",
        "    text_y = bar.get_height()\n",
        "\n",
        "    # Crear el texto que se mostrará en cada barra, que incluye la frecuencia formateada y el porcentaje de aparición\n",
        "    text = f'{frecuencias:,}\\n{frecuencias / len(tiros_dados):.3%}'\n",
        "\n",
        "    # Añadir el texto a la posición calculada en la barra del gráfico\n",
        "    # Se especifica el tamaño de fuente, la alineación horizontal y vertical del texto\n",
        "    axes.text(text_x, text_y, text, fontsize=11, ha='center', va='bottom')\n",
        "\n"
      ],
      "metadata": {
        "id": "LhQaqOvytcej"
      },
      "execution_count": null,
      "outputs": []
    },
    {
      "cell_type": "markdown",
      "source": [
        "## Codigo en una sola Celda"
      ],
      "metadata": {
        "id": "CbZ7RBsAwZOb"
      }
    },
    {
      "cell_type": "code",
      "source": [
        "# Importación de las bibliotecas necesarias\n",
        "import matplotlib.pyplot as plt  # Para la creación de gráficos\n",
        "import numpy as np  # Para cálculos numéricos y manipulación de matrices\n",
        "import random  # Para la generación de números aleatorios\n",
        "import seaborn as sns  # Para mejorar el estilo visual de los gráficos\n",
        "\n",
        "# Generar 600 tiros de dados y almacenar los resultados en una lista\n",
        "tiros_dados = [random.randrange(1, 7) for i in range(600)]\n",
        "\n",
        "# Utilizar NumPy para calcular los valores únicos y sus frecuencias en la lista de tiros de dados\n",
        "valores, frecuencias = np.unique(tiros_dados, return_counts=True)\n",
        "\n",
        "# Crear un título dinámico para el gráfico que indica el número de veces que se lanzaron los dados\n",
        "titulo = f'Resultados de tirar los dados {len(tiros_dados)} veces'\n",
        "\n",
        "# Establecer el estilo de fondo del gráfico utilizando seaborn\n",
        "sns.set_style('whitegrid')\n",
        "\n",
        "# Crear un gráfico de barras utilizando seaborn, donde los valores únicos son representados en el eje x\n",
        "# y las frecuencias de aparición de cada valor son representadas en el eje y\n",
        "# Se utiliza la paleta de colores 'bright' para una mejor visualización\n",
        "axes = sns.barplot(x=valores, y=frecuencias, palette=\"bright\")\n",
        "\n",
        "# Establecer el título del gráfico utilizando el título dinámico creado previamente\n",
        "axes.set_title(titulo)\n",
        "\n",
        "# Establecer las etiquetas de los ejes x e y del gráfico\n",
        "# El eje x representa los valores únicos, mientras que el eje y representa las frecuencias de aparición\n",
        "axes.set(xlabel='Valores', ylabel='Frecuencias')\n",
        "\n",
        "axes.set_ylim(top=max(frecuencias)*1.10)\n",
        "\n",
        "# Iterar sobre cada barra del gráfico y su correspondiente frecuencia de aparición\n",
        "for bar, frecuencias in zip(axes.patches, frecuencias):\n",
        "    # Calcular la posición x y y del texto que se añadirá a cada barra\n",
        "    text_x = bar.get_x() + bar.get_width() / 2.0\n",
        "    text_y = bar.get_height()\n",
        "\n",
        "    # Crear el texto que se mostrará en cada barra, que incluye la frecuencia formateada y el porcentaje de aparición\n",
        "    text = f'{frecuencias:,}\\n{frecuencias / len(tiros_dados):.3%}'\n",
        "\n",
        "    # Añadir el texto a la posición calculada en la barra del gráfico\n",
        "    # Se especifica el tamaño de fuente, la alineación horizontal y vertical del texto\n",
        "    axes.text(text_x, text_y, text, fontsize=11, ha='center', va='bottom')"
      ],
      "metadata": {
        "id": "tDPUGc40wcCC"
      },
      "execution_count": null,
      "outputs": []
    }
  ]
}